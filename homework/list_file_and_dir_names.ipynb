{
 "cells": [
  {
   "cell_type": "markdown",
   "metadata": {},
   "source": [
    "# Homework - add the file depth to the print statement\n",
    "### Using writelines, It's just for STRING"
   ]
  },
  {
   "cell_type": "code",
   "execution_count": 30,
   "metadata": {},
   "outputs": [],
   "source": [
    "import os\n",
    "\n",
    "# Read all the files that are in a directory\n",
    "file_names = os.listdir('.')\n",
    "\n",
    "# Sorted all the files that are in a directory\n",
    "file_names = sorted(file_names)\n",
    "\n",
    "# Join that file name with string new line\n",
    "file_name_newline = '\\n'.join(file_names)\n",
    "\n",
    "# Write that list of files to `manifest.txt` in that directory (edited)\n",
    "with open('manifest.txt', 'w') as manifest:\n",
    "    manifest.writelines(file_name_newline)"
   ]
  },
  {
   "cell_type": "markdown",
   "metadata": {},
   "source": [
    "### Using writelines, It's for LIST and STRING"
   ]
  },
  {
   "cell_type": "code",
   "execution_count": 29,
   "metadata": {},
   "outputs": [],
   "source": [
    "import os\n",
    "\n",
    "# Read all the files that are in a directory\n",
    "file_names = os.listdir('.')\n",
    "\n",
    "# Sorted all the files that are in a directory\n",
    "file_names = sorted(file_names)\n",
    "\n",
    "# List all of file names and directies \n",
    "filename_with_newline = [f'{file_names}\\n' for file_name in file_names]\n",
    "\n",
    "# Write that list of files to `manifest.txt` in that directory (edited)\n",
    "with open ('manifes.txt', 'w') as file_names:\n",
    "    file_names.writelines(filename_with_newline)"
   ]
  },
  {
   "cell_type": "markdown",
   "metadata": {},
   "source": [
    "### Ony's Homework - add the file depth to the print statement"
   ]
  },
  {
   "cell_type": "code",
   "execution_count": 1,
   "metadata": {},
   "outputs": [
    {
     "name": "stdout",
     "output_type": "stream",
     "text": [
      "|____ .gitignore\n",
      "|____ uza_ba_teste_deit.pyc\n",
      "| topic_presentations_files\n",
      "|____ manifest.txt\n",
      "| settup_nginx_server\n",
      "| challenge\n",
      "|____ kok.pyc\n",
      "| .git\n",
      "| play_music\n",
      "|____ .list_dir.py.swp\n",
      "| sabadu_topics\n",
      "|____ manifes.txt\n",
      "| hackerrank\n",
      "|____ manifesta.txt\n",
      "|____ README.md\n",
      "|____ .review python list.ipynb.swp\n",
      "| .ipynb_checkpoints\n",
      "|____ list_file_names.ipynb\n",
      "|____ list_files.py\n",
      "|____ searching_text.ipynb\n",
      "| homework\n",
      "|____ Untitled1.ipynb\n",
      "|____ list_dir.py\n"
     ]
    }
   ],
   "source": [
    "import os\n",
    "\n",
    "# Write that list of files to `manifest.txt` in that directory (edited)\n",
    "with open('manifest.txt', 'w') as manifest:\n",
    "\n",
    "    # Read all the files that are in a directory\n",
    "    for file_name in os.listdir('.'):\n",
    "        manifest.write(file_name + '\\n')\n",
    "        if os.path.isdir(file_name):\n",
    "            print(('|'), (file_name))\n",
    "        elif os.path.isfile(file_name):\n",
    "            print(('|____'), (file_name))\n",
    "        else:\n",
    "            print(('---'), (file_name))"
   ]
  }
 ],
 "metadata": {
  "kernelspec": {
   "display_name": "Python 3",
   "language": "python",
   "name": "python3"
  },
  "language_info": {
   "codemirror_mode": {
    "name": "ipython",
    "version": 3
   },
   "file_extension": ".py",
   "mimetype": "text/x-python",
   "name": "python",
   "nbconvert_exporter": "python",
   "pygments_lexer": "ipython3",
   "version": "3.6.1"
  }
 },
 "nbformat": 4,
 "nbformat_minor": 2
}
