{
 "cells": [
  {
   "cell_type": "markdown",
   "metadata": {},
   "source": [
    "# Challenge #1\n",
    "\n",
    "For any given list Return a dictionary with the key of the list item, and the number of times it occurs in the list"
   ]
  },
  {
   "cell_type": "code",
   "execution_count": 1,
   "metadata": {},
   "outputs": [
    {
     "data": {
      "text/plain": [
       "{1: 2, 2: 2, 3: 3, 4: 1, 5: 1, 'a': 2, 'b': 1, 'c': 2}"
      ]
     },
     "execution_count": 1,
     "metadata": {},
     "output_type": "execute_result"
    }
   ],
   "source": [
    "my_list = [1, 2, 1, 3, 3, 2, 4, 5, 3, 'a', 'a', 'b', 'c', 'c']\n",
    "\n",
    "\n",
    "def count_ocurence(my_list):\n",
    "    occurences = {}\n",
    "    keys = set(my_list)\n",
    "    for key in keys:\n",
    "        number_of_time_found = 0\n",
    "        for item in my_list:\n",
    "            if item == key:\n",
    "                number_of_time_found += 1\n",
    "        occurences[key] = number_of_time_found\n",
    "    return occurences\n",
    "\n",
    "count_ocurence(my_list)"
   ]
  },
  {
   "cell_type": "markdown",
   "metadata": {},
   "source": [
    "# Challange #2\n",
    "\n",
    "Given 2 lists, return a dictionary where items from the first lists are the keys and the second list are the values.  If the lists are different lengths throw an error."
   ]
  },
  {
   "cell_type": "code",
   "execution_count": 2,
   "metadata": {},
   "outputs": [
    {
     "data": {
      "text/plain": [
       "{'1': 'a', '2': 'b', '3': 'b', 'G': 'f'}"
      ]
     },
     "execution_count": 2,
     "metadata": {},
     "output_type": "execute_result"
    }
   ],
   "source": [
    "first_list = ['1', '2', '3', 'G']\n",
    "second_list = ['a', 'b', 'b', 'f']\n",
    "\n",
    "def make_dictionary(first_list, second_list):\n",
    "    my_dict = {}\n",
    "    for index, key in enumerate(first_list):\n",
    "        my_dict[key] = second_list[index]\n",
    "    \n",
    "    return my_dict\n",
    "\n",
    "make_dictionary(first_list, second_list)"
   ]
  },
  {
   "cell_type": "markdown",
   "metadata": {},
   "source": [
    "# Continue Challange #2\n",
    "NOT using `zip` and `enumerate`, But I'm used range and len "
   ]
  },
  {
   "cell_type": "code",
   "execution_count": 3,
   "metadata": {},
   "outputs": [
    {
     "data": {
      "text/plain": [
       "{'1': 'a', '2': 'b', '3': 'b', 'G': 'f'}"
      ]
     },
     "execution_count": 3,
     "metadata": {},
     "output_type": "execute_result"
    }
   ],
   "source": [
    "first_list = ['1', '2', '3', 'G']\n",
    "second_list = ['a', 'b', 'b', 'f']\n",
    "\n",
    "def my_dictionary(first_list, second_list):\n",
    "    my_dict = {}\n",
    "    for item in range(len(first_list)):\n",
    "        my_dict[first_list[item]] = second_list[item]\n",
    "        \n",
    "    return my_dict\n",
    "\n",
    "my_dictionary(first_list, second_list)"
   ]
  },
  {
   "cell_type": "markdown",
   "metadata": {},
   "source": [
    "# Challenge #3\n",
    "Given a dictionary where all of the values are numeric create a bar chart in a python notebook display the barchart inline (i.e. in the note book not in a file)"
   ]
  },
  {
   "cell_type": "code",
   "execution_count": 25,
   "metadata": {},
   "outputs": [
    {
     "data": {
      "image/png": "[encoded data removed]",
      "text/plain": [
       "<matplotlib.figure.Figure at 0x7f4f04cdffd0>"
      ]
     },
     "metadata": {},
     "output_type": "display_data"
    }
   ],
   "source": [
    "import matplotlib.pyplot as my_chart\n",
    "my_dictionary = {1: 2, 2: 1, 3: 1, 4: 3, 'a': 2, 'b': 2}\n",
    "my_chart.bar(range(len(my_dictionary)), list(my_dictionary.values()))\n",
    "my_chart.xticks(range(len(my_dictionary)), list(my_dictionary.keys()))\n",
    "my_chart.show()"
   ]
  },
  {
   "cell_type": "markdown",
   "metadata": {
    "collapsed": true
   },
   "source": [
    "# Challenge #4"
   ]
  },
  {
   "cell_type": "markdown",
   "metadata": {
    "collapsed": true
   },
   "source": [
    "Given a list which contains a series with missing values,\n",
    "a user needs to be shown teh missing values.\n",
    "The user then needs to input the missing values\n",
    "The function then returns the complete list"
   ]
  },
  {
   "cell_type": "code",
   "execution_count": 1,
   "metadata": {},
   "outputs": [
    {
     "data": {
      "text/plain": [
       "[4, 6, 9]"
      ]
     },
     "execution_count": 1,
     "metadata": {},
     "output_type": "execute_result"
    }
   ],
   "source": [
    "num_list = [1, 2, 3, 5, 7, 8, 10]\n",
    "def missing_numbers(num_list):\n",
    "    my_list = [num for num in range(num_list[0], num_list[-1] + 1)]\n",
    "    num_list = set(num_list)\n",
    "    return (list(num_list ^ set(my_list)))\n",
    "\n",
    "missing_numbers(num_list)"
   ]
  },
  {
   "cell_type": "code",
   "execution_count": null,
   "metadata": {},
   "outputs": [],
   "source": []
  },
  {
   "cell_type": "code",
   "execution_count": 72,
   "metadata": {},
   "outputs": [
    {
     "data": {
      "text/plain": [
       "[4, 6, 9]"
      ]
     },
     "execution_count": 72,
     "metadata": {},
     "output_type": "execute_result"
    }
   ],
   "source": [
    "num_list = [1, 2, 3, 5, 7, 8, 10]\n",
    "def missing_number(num_list):\n",
    "    return [value for value in range(min(num_list), max(num_list)) if value not in num_list]\n",
    "\n",
    "missing_number(num_list)"
   ]
  },
  {
   "cell_type": "markdown",
   "metadata": {},
   "source": [
    "# Challenge 5\n",
    "\n",
    "Given a file with two values per line seperated by a tab\n",
    "- first value is a number of bytes successfully sent to server\n",
    "- second value is nu datetime stamp (UNIX time)[https://en.wikipedia.org/wiki/Unix_time]\n",
    "\n",
    "\n",
    "Make a bar chart OR step chart so that we can see network failures\n",
    "- X-Axis is time\n",
    "- Y-Axis is number of bytes sent\n",
    "\n",
    "Show chart inline in Jupyter Notebook"
   ]
  },
  {
   "cell_type": "code",
   "execution_count": 23,
   "metadata": {},
   "outputs": [
    {
     "data": {
      "image/png": "[encoded data removed]",
      "text/plain": [
       "<matplotlib.figure.Figure at 0x7fd10e759690>"
      ]
     },
     "metadata": {},
     "output_type": "display_data"
    }
   ],
   "source": [
    "import matplotlib.pyplot as plt\n",
    "from time import strftime\n",
    "import datetime\n",
    "from datetime import date\n",
    "\n",
    "graph_data = open('read_files/httpost-sin-2.log', 'r').read()\n",
    "lines = graph_data.split('\\n')\n",
    "xs = []\n",
    "ys = []\n",
    "for line in lines:\n",
    "    if len(line) > 1:\n",
    "        y, x = line.split()\n",
    "        x = datetime.datetime.fromtimestamp(float(x))\n",
    "        value = x.strftime('%Y-%m-%d')\n",
    "        xs.append(x)\n",
    "        ys.append(y)\n",
    "\n",
    "plt.plot(xs, ys)\n",
    "plt.title(\"Network Failures\")\n",
    "plt.ylabel(\"Bytes\")\n",
    "plt.xlabel(\"Time\")\n",
    "plt.show()"
   ]
  },
  {
   "cell_type": "code",
   "execution_count": 17,
   "metadata": {},
   "outputs": [
    {
     "data": {
      "image/png": "[encoded data removed]",
      "text/plain": [
       "<matplotlib.figure.Figure at 0x7fecc0547050>"
      ]
     },
     "metadata": {},
     "output_type": "display_data"
    }
   ],
   "source": [
    "import matplotlib.pyplot as plt\n",
    "\n",
    "graph_data = open('read_files/streampost-fromvpn2.log', 'r').read()\n",
    "lines = graph_data.split('\\n')\n",
    "xs = []\n",
    "ys = []\n",
    "for line in lines:\n",
    "    if len(line) > 1:\n",
    "        y, x = line.split()\n",
    "        xs.append(x)\n",
    "        ys.append(y)\n",
    "\n",
    "plt.plot(xs, ys)\n",
    "plt.title(\"Network Failures\")\n",
    "plt.ylabel(\"Bytes\")\n",
    "plt.xlabel(\"Time\")\n",
    "plt.show()\n"
   ]
  }
 ],
 "metadata": {
  "kernelspec": {
   "display_name": "Python 2",
   "language": "python",
   "name": "python2"
  },
  "language_info": {
   "codemirror_mode": {
    "name": "ipython",
    "version": 2
   },
   "file_extension": ".py",
   "mimetype": "text/x-python",
   "name": "python",
   "nbconvert_exporter": "python",
   "pygments_lexer": "ipython2",
   "version": "2.7.15rc1"
  }
 },
 "nbformat": 4,
 "nbformat_minor": 2
}
