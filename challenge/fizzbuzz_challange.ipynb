{
 "cells": [
  {
   "cell_type": "markdown",
   "metadata": {},
   "source": [
    "# Challange\n",
    "\n",
    "## How to play FizzBuzz\n",
    "Count starting at 1\n",
    "If your number is evenly divisible by 3, say Fizz\n",
    "If your number is evenly divisible by 5, say Buzz\n",
    "If your number is evenly divisible by both 3 and 5, say FizzBuzz\n",
    "\n",
    "## Challange: Eat Chocolate and Write FizzBuzz with no if statements and NO Internet!"
   ]
  },
  {
   "cell_type": "code",
   "execution_count": 2,
   "metadata": {},
   "outputs": [],
   "source": [
    "correct_to_30 = ['1', '2', 'fizz', '4', 'buzz', 'fizz', '7', '8', 'fizz', 'buzz', '11', 'fizz', '13', '14', 'fizzbuzz', '16', '17', 'fizz', '19', 'buzz', 'fizz', '22', '23', 'fizz', 'buzz', '26', 'fizz', '28', '29', 'fizzbuzz']"
   ]
  },
  {
   "cell_type": "markdown",
   "metadata": {},
   "source": [
    "# Anders"
   ]
  },
  {
   "cell_type": "code",
   "execution_count": 24,
   "metadata": {},
   "outputs": [],
   "source": [
    "def fizzbuzz(count):\n",
    "    count += 1\n",
    "    \n",
    "    # Create sets of values for fizzes, buzzes, and fizzbuzzes\n",
    "    fizzes_set = {number for number in range(0, count, 3)}\n",
    "    buzzes_set = {number for number in range(0, count, 5)}\n",
    "    fizzbuzzes_set = fizzes_set.intersection(buzzes_set)\n",
    "    \n",
    "    # make ditionarys to set the correct word for each value\n",
    "    fizzes = {number: 'fizz' for number in fizzes_set}\n",
    "    buzzes = {number: 'buzz' for number in buzzes_set}\n",
    "    fizzbuzzes = {number: 'fizzbuzz' for number in fizzbuzzes_set}\n",
    "\n",
    "    # Create a final dictionary of numbers, update the dictionary with new values\n",
    "    # replacing numbers for the correct words in the sequence\n",
    "    final = {number: str(number) for number in range(1, count)}\n",
    "    final.update(fizzes)\n",
    "    final.update(buzzes)\n",
    "    final.update(fizzbuzzes)\n",
    "\n",
    "    # Create a list with the correct final sequence of numbers and words\n",
    "    final = [final[item] for item in range(1, count)]\n",
    "\n",
    "    return final\n",
    "\n",
    "assert fizzbuzz(30) == correct_to_30"
   ]
  },
  {
   "cell_type": "code",
   "execution_count": 25,
   "metadata": {},
   "outputs": [
    {
     "data": {
      "text/plain": [
       "['1',\n",
       " '2',\n",
       " 'fizz',\n",
       " '4',\n",
       " 'buzz',\n",
       " 'fizz',\n",
       " '7',\n",
       " '8',\n",
       " 'fizz',\n",
       " 'buzz',\n",
       " '11',\n",
       " 'fizz',\n",
       " '13',\n",
       " '14',\n",
       " 'fizzbuzz',\n",
       " '16',\n",
       " '17',\n",
       " 'fizz',\n",
       " '19',\n",
       " 'buzz',\n",
       " 'fizz',\n",
       " '22',\n",
       " '23',\n",
       " 'fizz',\n",
       " 'buzz',\n",
       " '26',\n",
       " 'fizz',\n",
       " '28',\n",
       " '29',\n",
       " 'fizzbuzz']"
      ]
     },
     "execution_count": 25,
     "metadata": {},
     "output_type": "execute_result"
    }
   ],
   "source": [
    "fizzbuzz(count=30)"
   ]
  },
  {
   "cell_type": "code",
   "execution_count": 26,
   "metadata": {},
   "outputs": [
    {
     "name": "stdout",
     "output_type": "stream",
     "text": [
      "23.1 µs ± 551 ns per loop (mean ± std. dev. of 7 runs, 10000 loops each)\n"
     ]
    }
   ],
   "source": [
    "%timeit fizzbuzz(30)"
   ]
  },
  {
   "cell_type": "markdown",
   "metadata": {},
   "source": [
    "# Nando (modified by Anders)"
   ]
  },
  {
   "cell_type": "code",
   "execution_count": 27,
   "metadata": {},
   "outputs": [],
   "source": [
    "def fizzbuzz(count):\n",
    "    final = []\n",
    "    for number in range(1, count+1):\n",
    "        fizz = (not number % 3) * \"fizz\"\n",
    "        buzz = (not number % 5) * \"buzz\"\n",
    "        other = ((number % 5 and number % 3) > 0) * str(number)\n",
    "        final.append(fizz + buzz + other)\n",
    "    return final\n",
    "\n",
    "assert fizzbuzz(30) == correct_to_30"
   ]
  },
  {
   "cell_type": "code",
   "execution_count": 29,
   "metadata": {},
   "outputs": [
    {
     "data": {
      "text/plain": [
       "['1',\n",
       " '2',\n",
       " 'fizz',\n",
       " '4',\n",
       " 'buzz',\n",
       " 'fizz',\n",
       " '7',\n",
       " '8',\n",
       " 'fizz',\n",
       " 'buzz',\n",
       " '11',\n",
       " 'fizz',\n",
       " '13',\n",
       " '14',\n",
       " 'fizzbuzz',\n",
       " '16',\n",
       " '17',\n",
       " 'fizz',\n",
       " '19',\n",
       " 'buzz',\n",
       " 'fizz',\n",
       " '22',\n",
       " '23',\n",
       " 'fizz',\n",
       " 'buzz',\n",
       " '26',\n",
       " 'fizz',\n",
       " '28',\n",
       " '29',\n",
       " 'fizzbuzz']"
      ]
     },
     "execution_count": 29,
     "metadata": {},
     "output_type": "execute_result"
    }
   ],
   "source": [
    "fizzbuzz(count=30)"
   ]
  },
  {
   "cell_type": "code",
   "execution_count": 30,
   "metadata": {},
   "outputs": [
    {
     "name": "stdout",
     "output_type": "stream",
     "text": [
      "31 µs ± 3.38 µs per loop (mean ± std. dev. of 7 runs, 10000 loops each)\n"
     ]
    }
   ],
   "source": [
    "%timeit fizzbuzz(30)"
   ]
  },
  {
   "cell_type": "markdown",
   "metadata": {},
   "source": [
    "# Ano"
   ]
  },
  {
   "cell_type": "code",
   "execution_count": 31,
   "metadata": {},
   "outputs": [],
   "source": [
    "def no_statment(num): \n",
    "    lista = []\n",
    "    for number in range(1, num+1):\n",
    "        try: \n",
    "            n = (number % 5) or (number % 3)\n",
    "            fizzbuzz = ['fizzbuzz'][n]\n",
    "            lista.append(fizzbuzz)                \n",
    "        except:                            \n",
    "            try:                          \n",
    "                fizz = ['fizz'][number % 3]\n",
    "                lista.append(fizz)                \n",
    "            except:                       \n",
    "                try:                       \n",
    "                    buzz = ['buzz'][number % 5]\n",
    "                    lista.append(buzz)\n",
    "                except:      \n",
    "                    lista.append(str(number))\n",
    "    return lista\n",
    "\n",
    "assert no_statment(30) == correct_to_30"
   ]
  },
  {
   "cell_type": "code",
   "execution_count": 33,
   "metadata": {},
   "outputs": [
    {
     "data": {
      "text/plain": [
       "['1',\n",
       " '2',\n",
       " 'fizz',\n",
       " '4',\n",
       " 'buzz',\n",
       " 'fizz',\n",
       " '7',\n",
       " '8',\n",
       " 'fizz',\n",
       " 'buzz',\n",
       " '11',\n",
       " 'fizz',\n",
       " '13',\n",
       " '14',\n",
       " 'fizzbuzz',\n",
       " '16',\n",
       " '17',\n",
       " 'fizz',\n",
       " '19',\n",
       " 'buzz',\n",
       " 'fizz',\n",
       " '22',\n",
       " '23',\n",
       " 'fizz',\n",
       " 'buzz',\n",
       " '26',\n",
       " 'fizz',\n",
       " '28',\n",
       " '29',\n",
       " 'fizzbuzz']"
      ]
     },
     "execution_count": 33,
     "metadata": {},
     "output_type": "execute_result"
    }
   ],
   "source": [
    "no_statment(num=30)"
   ]
  },
  {
   "cell_type": "code",
   "execution_count": 8,
   "metadata": {},
   "outputs": [
    {
     "name": "stdout",
     "output_type": "stream",
     "text": [
      "47.8 µs ± 3.61 µs per loop (mean ± std. dev. of 7 runs, 10000 loops each)\n"
     ]
    }
   ],
   "source": [
    "%timeit no_statment(30)"
   ]
  },
  {
   "cell_type": "markdown",
   "metadata": {},
   "source": [
    "# Nando"
   ]
  },
  {
   "cell_type": "code",
   "execution_count": 34,
   "metadata": {},
   "outputs": [],
   "source": [
    "def fizzbuzz(count):\n",
    "    result = []\n",
    "    for l in range(1, count+1):\n",
    "        fizz = (not l % 3) * \"fizz\"\n",
    "        buzz = (not l % 5) * \"buzz\"\n",
    "        fb = fizz + buzz\n",
    "        result.append(fb or str(l))\n",
    "    return result\n",
    "\n",
    "assert fizzbuzz(30) == correct_to_30"
   ]
  },
  {
   "cell_type": "code",
   "execution_count": 36,
   "metadata": {},
   "outputs": [
    {
     "data": {
      "text/plain": [
       "['1',\n",
       " '2',\n",
       " 'fizz',\n",
       " '4',\n",
       " 'buzz',\n",
       " 'fizz',\n",
       " '7',\n",
       " '8',\n",
       " 'fizz',\n",
       " 'buzz',\n",
       " '11',\n",
       " 'fizz',\n",
       " '13',\n",
       " '14',\n",
       " 'fizzbuzz',\n",
       " '16',\n",
       " '17',\n",
       " 'fizz',\n",
       " '19',\n",
       " 'buzz',\n",
       " 'fizz',\n",
       " '22',\n",
       " '23',\n",
       " 'fizz',\n",
       " 'buzz',\n",
       " '26',\n",
       " 'fizz',\n",
       " '28',\n",
       " '29',\n",
       " 'fizzbuzz',\n",
       " '31']"
      ]
     },
     "execution_count": 36,
     "metadata": {},
     "output_type": "execute_result"
    }
   ],
   "source": [
    "fizzbuzz(count=31)"
   ]
  },
  {
   "cell_type": "code",
   "execution_count": 37,
   "metadata": {},
   "outputs": [
    {
     "name": "stdout",
     "output_type": "stream",
     "text": [
      "22.9 µs ± 3.83 µs per loop (mean ± std. dev. of 7 runs, 100000 loops each)\n"
     ]
    }
   ],
   "source": [
    "%timeit fizzbuzz(30)"
   ]
  },
  {
   "cell_type": "markdown",
   "metadata": {},
   "source": [
    "# Mario"
   ]
  },
  {
   "cell_type": "code",
   "execution_count": 11,
   "metadata": {},
   "outputs": [],
   "source": [
    "def fizz_buzz(num):\n",
    "    num_list = range(1,num+1)\n",
    "    result = []\n",
    "    for n in num_list:\n",
    "        fb = (n % 3 == 0 and n % 5 == 0) * \"fizzbuzz\" or (n % 3 == 0) * \"fizz\" or (n % 5 == 0) * \"buzz\" or str(n)\n",
    "        result += [fb]\n",
    "    return result\n",
    "\n",
    "assert fizz_buzz(30) == correct_to_30"
   ]
  },
  {
   "cell_type": "code",
   "execution_count": 40,
   "metadata": {},
   "outputs": [
    {
     "data": {
      "text/plain": [
       "['1',\n",
       " '2',\n",
       " 'fizz',\n",
       " '4',\n",
       " 'buzz',\n",
       " 'fizz',\n",
       " '7',\n",
       " '8',\n",
       " 'fizz',\n",
       " 'buzz',\n",
       " '11',\n",
       " 'fizz',\n",
       " '13',\n",
       " '14',\n",
       " 'fizzbuzz',\n",
       " '16',\n",
       " '17',\n",
       " 'fizz',\n",
       " '19',\n",
       " 'buzz',\n",
       " 'fizz',\n",
       " '22',\n",
       " '23',\n",
       " 'fizz',\n",
       " 'buzz',\n",
       " '26',\n",
       " 'fizz',\n",
       " '28',\n",
       " '29',\n",
       " 'fizzbuzz',\n",
       " '31']"
      ]
     },
     "execution_count": 40,
     "metadata": {},
     "output_type": "execute_result"
    }
   ],
   "source": [
    "fizz_buzz(num=31)"
   ]
  },
  {
   "cell_type": "code",
   "execution_count": 41,
   "metadata": {},
   "outputs": [
    {
     "name": "stdout",
     "output_type": "stream",
     "text": [
      "24.3 µs ± 2.05 µs per loop (mean ± std. dev. of 7 runs, 10000 loops each)\n"
     ]
    }
   ],
   "source": [
    "%timeit fizz_buzz(30)"
   ]
  },
  {
   "cell_type": "markdown",
   "metadata": {},
   "source": [
    "# Niko"
   ]
  },
  {
   "cell_type": "code",
   "execution_count": 42,
   "metadata": {},
   "outputs": [],
   "source": [
    "def fizzbuzza(count):\n",
    "    final = []\n",
    "    for number in range(1, count+1):\n",
    "        result = \"fizz\" * (number % 3 == 0) + \"buzz\" * (number % 5 == 0) or \"fizzbuzz\" * (number % 3 == 0 + number % 5 == 0) or str(number)\n",
    "        final.append(result)\n",
    "    return final \n",
    "\n",
    "assert fizzbuzza(30) == correct_to_30"
   ]
  },
  {
   "cell_type": "code",
   "execution_count": 44,
   "metadata": {},
   "outputs": [
    {
     "data": {
      "text/plain": [
       "['1',\n",
       " '2',\n",
       " 'fizz',\n",
       " '4',\n",
       " 'buzz',\n",
       " 'fizz',\n",
       " '7',\n",
       " '8',\n",
       " 'fizz',\n",
       " 'buzz',\n",
       " '11',\n",
       " 'fizz',\n",
       " '13',\n",
       " '14',\n",
       " 'fizzbuzz',\n",
       " '16',\n",
       " '17',\n",
       " 'fizz',\n",
       " '19',\n",
       " 'buzz',\n",
       " 'fizz',\n",
       " '22',\n",
       " '23',\n",
       " 'fizz',\n",
       " 'buzz',\n",
       " '26',\n",
       " 'fizz',\n",
       " '28',\n",
       " '29',\n",
       " 'fizzbuzz',\n",
       " '31']"
      ]
     },
     "execution_count": 44,
     "metadata": {},
     "output_type": "execute_result"
    }
   ],
   "source": [
    "fizzbuzza(count=31)"
   ]
  },
  {
   "cell_type": "code",
   "execution_count": 45,
   "metadata": {},
   "outputs": [
    {
     "name": "stdout",
     "output_type": "stream",
     "text": [
      "25.3 µs ± 2.71 µs per loop (mean ± std. dev. of 7 runs, 10000 loops each)\n"
     ]
    }
   ],
   "source": [
    "%timeit fizzbuzza(30)"
   ]
  },
  {
   "cell_type": "markdown",
   "metadata": {},
   "source": [
    "# Ony"
   ]
  },
  {
   "cell_type": "code",
   "execution_count": 47,
   "metadata": {},
   "outputs": [],
   "source": [
    "def fizzbuzz(count):\n",
    "    final = []\n",
    "    for num in range(1, count+1):\n",
    "        final += [(\"fizz\"*(num % 3 == 0)+\"buzz\"*(num % 5 == 0) or str(num))]\n",
    "    return final\n",
    "\n",
    "assert fizzbuzz(30) == correct_to_30"
   ]
  },
  {
   "cell_type": "code",
   "execution_count": 49,
   "metadata": {},
   "outputs": [
    {
     "data": {
      "text/plain": [
       "['1',\n",
       " '2',\n",
       " 'fizz',\n",
       " '4',\n",
       " 'buzz',\n",
       " 'fizz',\n",
       " '7',\n",
       " '8',\n",
       " 'fizz',\n",
       " 'buzz',\n",
       " '11',\n",
       " 'fizz',\n",
       " '13',\n",
       " '14',\n",
       " 'fizzbuzz',\n",
       " '16',\n",
       " '17',\n",
       " 'fizz',\n",
       " '19',\n",
       " 'buzz',\n",
       " 'fizz',\n",
       " '22',\n",
       " '23',\n",
       " 'fizz',\n",
       " 'buzz',\n",
       " '26',\n",
       " 'fizz',\n",
       " '28',\n",
       " '29',\n",
       " 'fizzbuzz',\n",
       " '31']"
      ]
     },
     "execution_count": 49,
     "metadata": {},
     "output_type": "execute_result"
    }
   ],
   "source": [
    "fizzbuzza(count=31)"
   ]
  },
  {
   "cell_type": "markdown",
   "metadata": {},
   "source": [
    "### Using comprehension"
   ]
  },
  {
   "cell_type": "code",
   "execution_count": 51,
   "metadata": {},
   "outputs": [],
   "source": [
    "#super fast Ony\n",
    "def fizzbuzz(count):\n",
    "    return [\"fizz\"*(num % 3 == 0)+\"buzz\"*(num % 5 == 0) or str(num) for num in range(1, count+1)]\n",
    "\n",
    "assert fizzbuzz(30) == correct_to_30"
   ]
  },
  {
   "cell_type": "code",
   "execution_count": 53,
   "metadata": {},
   "outputs": [
    {
     "data": {
      "text/plain": [
       "['1',\n",
       " '2',\n",
       " 'fizz',\n",
       " '4',\n",
       " 'buzz',\n",
       " 'fizz',\n",
       " '7',\n",
       " '8',\n",
       " 'fizz',\n",
       " 'buzz',\n",
       " '11',\n",
       " 'fizz',\n",
       " '13',\n",
       " '14',\n",
       " 'fizzbuzz',\n",
       " '16',\n",
       " '17',\n",
       " 'fizz',\n",
       " '19',\n",
       " 'buzz',\n",
       " 'fizz',\n",
       " '22',\n",
       " '23',\n",
       " 'fizz',\n",
       " 'buzz',\n",
       " '26',\n",
       " 'fizz',\n",
       " '28',\n",
       " '29',\n",
       " 'fizzbuzz',\n",
       " '31']"
      ]
     },
     "execution_count": 53,
     "metadata": {},
     "output_type": "execute_result"
    }
   ],
   "source": [
    "fizzbuzza(count=31)"
   ]
  },
  {
   "cell_type": "code",
   "execution_count": 21,
   "metadata": {},
   "outputs": [
    {
     "name": "stdout",
     "output_type": "stream",
     "text": [
      "16.5 µs ± 2.46 µs per loop (mean ± std. dev. of 7 runs, 100000 loops each)\n"
     ]
    }
   ],
   "source": [
    "%timeit fizzbuzz(30)"
   ]
  },
  {
   "cell_type": "markdown",
   "metadata": {},
   "source": [
    "\n",
    "\n",
    "\n",
    "\n",
    "\n",
    "\n",
    "\n",
    "\n",
    "\n",
    "\n",
    "\n",
    "\n",
    "\n",
    "\n",
    "\n",
    "\n",
    "\n",
    "\n",
    "\n"
   ]
  }
 ],
 "metadata": {
  "kernelspec": {
   "display_name": "Python 3",
   "language": "python",
   "name": "python3"
  },
  "language_info": {
   "codemirror_mode": {
    "name": "ipython",
    "version": 3
   },
   "file_extension": ".py",
   "mimetype": "text/x-python",
   "name": "python",
   "nbconvert_exporter": "python",
   "pygments_lexer": "ipython3",
   "version": "3.5.6"
  }
 },
 "nbformat": 4,
 "nbformat_minor": 2
}
