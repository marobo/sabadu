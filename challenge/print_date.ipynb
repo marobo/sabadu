{
 "cells": [
  {
   "cell_type": "code",
   "execution_count": 2,
   "metadata": {},
   "outputs": [
    {
     "name": "stdout",
     "output_type": "stream",
     "text": [
      "2008-11-10 17:53:59\n",
      "2008-11-12 13:51:18\n",
      "datetime.datetime(2008, 11, 12, 13, 51, 18)\n",
      "datetime.datetime(2008, 11, 10, 17, 53, 59)\n",
      "datetime.datetime(2008, 11, 13, 6, 59, 27, 595983)\n",
      "datetime.datetime(2008, 11, 12, 21, 59, 27, 595983)\n",
      "time.struct_time(tm_year=2008, tm_mon=11, tm_mday=10, tm_hour=17, tm_min=53, tm_sec=59, tm_wday=0, tm_yday=315, tm_isdst=-1)\n",
      "time.struct_time(tm_year=2008, tm_mon=11, tm_mday=10, tm_hour=17, tm_min=53, tm_sec=59, tm_wday=0, tm_yday=315, tm_isdst=-1)\n",
      "time.struct_time(tm_year=2008, tm_mon=11, tm_mday=12, tm_hour=21, tm_min=59, tm_sec=27, tm_wday=2, tm_yday=317, tm_isdst=0)\n",
      "time.struct_time(tm_year=2008, tm_mon=11, tm_mday=13, tm_hour=6, tm_min=59, tm_sec=27, tm_wday=3, tm_yday=318, tm_isdst=0)\n",
      "1226465967.0\n"
     ]
    },
    {
     "ename": "NameError",
     "evalue": "name 'timestamp_utc' is not defined",
     "output_type": "error",
     "traceback": [
      "\u001b[0;31m---------------------------------------------------------------------------\u001b[0m",
      "\u001b[0;31mNameError\u001b[0m                                 Traceback (most recent call last)",
      "\u001b[0;32m<ipython-input-2-7d665f75ab5a>\u001b[0m in \u001b[0;36m<module>\u001b[0;34m()\u001b[0m\n\u001b[1;32m     71\u001b[0m \u001b[0;31m# time tuple in utc time to timestamp\u001b[0m\u001b[0;34m\u001b[0m\u001b[0;34m\u001b[0m\u001b[0m\n\u001b[1;32m     72\u001b[0m \u001b[0mtime_tuple_utc\u001b[0m \u001b[0;34m=\u001b[0m \u001b[0;34m(\u001b[0m\u001b[0;36m2008\u001b[0m\u001b[0;34m,\u001b[0m \u001b[0;36m11\u001b[0m\u001b[0;34m,\u001b[0m \u001b[0;36m12\u001b[0m\u001b[0;34m,\u001b[0m \u001b[0;36m13\u001b[0m\u001b[0;34m,\u001b[0m \u001b[0;36m59\u001b[0m\u001b[0;34m,\u001b[0m \u001b[0;36m27\u001b[0m\u001b[0;34m,\u001b[0m \u001b[0;36m2\u001b[0m\u001b[0;34m,\u001b[0m \u001b[0;36m317\u001b[0m\u001b[0;34m,\u001b[0m \u001b[0;36m0\u001b[0m\u001b[0;34m)\u001b[0m\u001b[0;34m\u001b[0m\u001b[0m\n\u001b[0;32m---> 73\u001b[0;31m \u001b[0;32mprint\u001b[0m \u001b[0mrepr\u001b[0m\u001b[0;34m(\u001b[0m\u001b[0mtimestamp_utc\u001b[0m\u001b[0;34m)\u001b[0m\u001b[0;34m\u001b[0m\u001b[0m\n\u001b[0m",
      "\u001b[0;31mNameError\u001b[0m: name 'timestamp_utc' is not defined"
     ]
    }
   ],
   "source": [
    "from datetime import datetime\n",
    "import time\n",
    "\n",
    "#-------------------------------------------------\n",
    "# conversions to strings\n",
    "#-------------------------------------------------\n",
    "# datetime object to string\n",
    "dt_obj = datetime(2008, 11, 10, 17, 53, 59)\n",
    "date_str = dt_obj.strftime(\"%Y-%m-%d %H:%M:%S\")\n",
    "print date_str\n",
    "\n",
    "# time tuple to string\n",
    "time_tuple = (2008, 11, 12, 13, 51, 18, 2, 317, 0)\n",
    "date_str = time.strftime(\"%Y-%m-%d %H:%M:%S\", time_tuple)\n",
    "print date_str\n",
    "\n",
    "#-------------------------------------------------\n",
    "# conversions to datetime objects\n",
    "#-------------------------------------------------\n",
    "# time tuple to datetime object\n",
    "time_tuple = (2008, 11, 12, 13, 51, 18, 2, 317, 0)\n",
    "dt_obj = datetime(*time_tuple[0:6])\n",
    "print repr(dt_obj)\n",
    "\n",
    "# date string to datetime object\n",
    "date_str = \"2008-11-10 17:53:59\"\n",
    "dt_obj = datetime.strptime(date_str, \"%Y-%m-%d %H:%M:%S\")\n",
    "print repr(dt_obj)\n",
    "\n",
    "# timestamp to datetime object in local time\n",
    "timestamp = 1226527167.595983\n",
    "dt_obj = datetime.fromtimestamp(timestamp)\n",
    "print repr(dt_obj)\n",
    "\n",
    "# timestamp to datetime object in UTC\n",
    "timestamp = 1226527167.595983\n",
    "dt_obj = datetime.utcfromtimestamp(timestamp)\n",
    "print repr(dt_obj)\n",
    "\n",
    "#-------------------------------------------------\n",
    "# conversions to time tuples\n",
    "#-------------------------------------------------\n",
    "# datetime object to time tuple\n",
    "dt_obj = datetime(2008, 11, 10, 17, 53, 59)\n",
    "time_tuple = dt_obj.timetuple()\n",
    "print repr(time_tuple)\n",
    "\n",
    "# string to time tuple\n",
    "date_str = \"2008-11-10 17:53:59\"\n",
    "time_tuple = time.strptime(date_str, \"%Y-%m-%d %H:%M:%S\")\n",
    "print repr(time_tuple)\n",
    "\n",
    "# timestamp to time tuple in UTC\n",
    "timestamp = 1226527167.595983\n",
    "time_tuple = time.gmtime(timestamp)\n",
    "print repr(time_tuple)\n",
    "\n",
    "# timestamp to time tuple in local time\n",
    "timestamp = 1226527167.595983\n",
    "time_tuple = time.localtime(timestamp)\n",
    "print repr(time_tuple)\n",
    "\n",
    "#-------------------------------------------------\n",
    "# conversions to timestamps\n",
    "#-------------------------------------------------\n",
    "# time tuple in local time to timestamp\n",
    "time_tuple = (2008, 11, 12, 13, 59, 27, 2, 317, 0)\n",
    "timestamp = time.mktime(time_tuple)\n",
    "print repr(timestamp)\n",
    "\n",
    "# time tuple in utc time to timestamp\n",
    "time_tuple_utc = (2008, 11, 12, 13, 59, 27, 2, 317, 0)\n",
    "print repr(timestamp_utc)"
   ]
  },
  {
   "cell_type": "code",
   "execution_count": 6,
   "metadata": {},
   "outputs": [
    {
     "name": "stdout",
     "output_type": "stream",
     "text": [
      "[1, 1, 1, 1, 1, 1, 1, 1]\n"
     ]
    }
   ],
   "source": [
    "mapp = {(0,100): 1, (100,400): 2, (400,800): 3}\n",
    "lst = [1,2,3,5,6,8,9,15]\n",
    "result = []\n",
    "for l in lst:\n",
    "    for m in mapp:\n",
    "        if m[0] < l < m[1]:\n",
    "            result.append(mapp[m])\n",
    "\n",
    "print result"
   ]
  },
  {
   "cell_type": "code",
   "execution_count": null,
   "metadata": {
    "collapsed": true
   },
   "outputs": [],
   "source": []
  }
 ],
 "metadata": {
  "kernelspec": {
   "display_name": "Python 2",
   "language": "python",
   "name": "python2"
  },
  "language_info": {
   "codemirror_mode": {
    "name": "ipython",
    "version": 2
   },
   "file_extension": ".py",
   "mimetype": "text/x-python",
   "name": "python",
   "nbconvert_exporter": "python",
   "pygments_lexer": "ipython2",
   "version": "2.7.15rc1"
  }
 },
 "nbformat": 4,
 "nbformat_minor": 2
}
