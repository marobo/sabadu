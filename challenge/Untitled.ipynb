{
 "cells": [
  {
   "cell_type": "markdown",
   "metadata": {},
   "source": [
    "# Challenge # 1\n",
    "User input name, and then print them sort by name in list"
   ]
  },
  {
   "cell_type": "code",
   "execution_count": 28,
   "metadata": {},
   "outputs": [
    {
     "name": "stdout",
     "output_type": "stream",
     "text": [
      "Enter names: ony, one, an, as\n",
      "[' an', ' as', ' one', 'ony']\n"
     ]
    }
   ],
   "source": [
    "user = input('Enter names: ')\n",
    "user = user.split(',')\n",
    "user.sort()\n",
    "print (user)"
   ]
  },
  {
   "cell_type": "markdown",
   "metadata": {},
   "source": [
    "# Challenge # 2\n",
    "Read CSV file and then ordered by list"
   ]
  },
  {
   "cell_type": "code",
   "execution_count": 82,
   "metadata": {},
   "outputs": [
    {
     "name": "stdout",
     "output_type": "stream",
     "text": [
      "['', 'Anders', 'Ano', 'Mario', 'Nando', 'Niko', 'Ony', 'Peter']\n"
     ]
    }
   ],
   "source": [
    "import csv\n",
    "with open('names.csv') as csvfile:\n",
    "    rows = csv.reader(csvfile)\n",
    "    for row in rows:\n",
    "        print(sorted(row))"
   ]
  },
  {
   "cell_type": "markdown",
   "metadata": {},
   "source": [
    "# Challenge # 3\n",
    "Python read file CSV and then export to XLSX file"
   ]
  },
  {
   "cell_type": "code",
   "execution_count": 106,
   "metadata": {},
   "outputs": [],
   "source": [
    "import pandas \n",
    "import csv\n",
    "data = pandas.read_csv('names.csv') \n",
    "data.to_excel('names.xlsx')"
   ]
  },
  {
   "cell_type": "markdown",
   "metadata": {},
   "source": [
    "# Python connection data in XLSX an ordered by District and Dubdistrict using pandas"
   ]
  },
  {
   "cell_type": "code",
   "execution_count": 117,
   "metadata": {},
   "outputs": [
    {
     "name": "stdout",
     "output_type": "stream",
     "text": [
      "[('Ainaro', 'Ainaro')]\n",
      "[('Ainaro', 'Ainaro'), ('Aileiu', 'Remexio')]\n",
      "[('Ainaro', 'Ainaro'), ('Aileiu', 'Remexio'), ('Manatuto', 'Laclo')]\n",
      "[('Ainaro', 'Ainaro'), ('Aileiu', 'Remexio'), ('Manatuto', 'Laclo'), ('Aileiu', 'Laulara')]\n",
      "[('Ainaro', 'Ainaro'), ('Aileiu', 'Remexio'), ('Manatuto', 'Laclo'), ('Aileiu', 'Laulara'), ('Ermera', 'Hatolia')]\n",
      "[('Ainaro', 'Ainaro'), ('Aileiu', 'Remexio'), ('Manatuto', 'Laclo'), ('Aileiu', 'Laulara'), ('Ermera', 'Hatolia'), ('Liquica', 'Bazartete')]\n",
      "[('Ainaro', 'Ainaro'), ('Aileiu', 'Remexio'), ('Manatuto', 'Laclo'), ('Aileiu', 'Laulara'), ('Ermera', 'Hatolia'), ('Liquica', 'Bazartete'), ('Liquica', 'Liquica')]\n",
      "[('Ainaro', 'Ainaro'), ('Aileiu', 'Remexio'), ('Manatuto', 'Laclo'), ('Aileiu', 'Laulara'), ('Ermera', 'Hatolia'), ('Liquica', 'Bazartete'), ('Liquica', 'Liquica'), ('Ermera', 'Lete Foho')]\n",
      "[('Ainaro', 'Ainaro'), ('Aileiu', 'Remexio'), ('Manatuto', 'Laclo'), ('Aileiu', 'Laulara'), ('Ermera', 'Hatolia'), ('Liquica', 'Bazartete'), ('Liquica', 'Liquica'), ('Ermera', 'Lete Foho'), ('Ermera', 'Railaco')]\n",
      "[('Ainaro', 'Ainaro'), ('Aileiu', 'Remexio'), ('Manatuto', 'Laclo'), ('Aileiu', 'Laulara'), ('Ermera', 'Hatolia'), ('Liquica', 'Bazartete'), ('Liquica', 'Liquica'), ('Ermera', 'Lete Foho'), ('Ermera', 'Railaco'), ('Liquica', 'Maubara')]\n",
      "[('Ainaro', 'Ainaro'), ('Aileiu', 'Remexio'), ('Manatuto', 'Laclo'), ('Aileiu', 'Laulara'), ('Ermera', 'Hatolia'), ('Liquica', 'Bazartete'), ('Liquica', 'Liquica'), ('Ermera', 'Lete Foho'), ('Ermera', 'Railaco'), ('Liquica', 'Maubara'), ('Manufahi', 'Same')]\n",
      "[('Ainaro', 'Ainaro'), ('Aileiu', 'Remexio'), ('Manatuto', 'Laclo'), ('Aileiu', 'Laulara'), ('Ermera', 'Hatolia'), ('Liquica', 'Bazartete'), ('Liquica', 'Liquica'), ('Ermera', 'Lete Foho'), ('Ermera', 'Railaco'), ('Liquica', 'Maubara'), ('Manufahi', 'Same'), ('Manatuto', 'Barique')]\n",
      "[('Ainaro', 'Ainaro'), ('Aileiu', 'Remexio'), ('Manatuto', 'Laclo'), ('Aileiu', 'Laulara'), ('Ermera', 'Hatolia'), ('Liquica', 'Bazartete'), ('Liquica', 'Liquica'), ('Ermera', 'Lete Foho'), ('Ermera', 'Railaco'), ('Liquica', 'Maubara'), ('Manufahi', 'Same'), ('Manatuto', 'Barique'), ('Manatuto', 'Laclubar')]\n",
      "[('Ainaro', 'Ainaro'), ('Aileiu', 'Remexio'), ('Manatuto', 'Laclo'), ('Aileiu', 'Laulara'), ('Ermera', 'Hatolia'), ('Liquica', 'Bazartete'), ('Liquica', 'Liquica'), ('Ermera', 'Lete Foho'), ('Ermera', 'Railaco'), ('Liquica', 'Maubara'), ('Manufahi', 'Same'), ('Manatuto', 'Barique'), ('Manatuto', 'Laclubar'), ('Manufahi', 'Alas')]\n",
      "[('Ainaro', 'Ainaro'), ('Aileiu', 'Remexio'), ('Manatuto', 'Laclo'), ('Aileiu', 'Laulara'), ('Ermera', 'Hatolia'), ('Liquica', 'Bazartete'), ('Liquica', 'Liquica'), ('Ermera', 'Lete Foho'), ('Ermera', 'Railaco'), ('Liquica', 'Maubara'), ('Manufahi', 'Same'), ('Manatuto', 'Barique'), ('Manatuto', 'Laclubar'), ('Manufahi', 'Alas'), ('Covalima', 'Fatumea')]\n",
      "[('Ainaro', 'Ainaro'), ('Aileiu', 'Remexio'), ('Manatuto', 'Laclo'), ('Aileiu', 'Laulara'), ('Ermera', 'Hatolia'), ('Liquica', 'Bazartete'), ('Liquica', 'Liquica'), ('Ermera', 'Lete Foho'), ('Ermera', 'Railaco'), ('Liquica', 'Maubara'), ('Manufahi', 'Same'), ('Manatuto', 'Barique'), ('Manatuto', 'Laclubar'), ('Manufahi', 'Alas'), ('Covalima', 'Fatumea'), ('Manatuto', 'Manatuto')]\n",
      "[('Ainaro', 'Ainaro'), ('Aileiu', 'Remexio'), ('Manatuto', 'Laclo'), ('Aileiu', 'Laulara'), ('Ermera', 'Hatolia'), ('Liquica', 'Bazartete'), ('Liquica', 'Liquica'), ('Ermera', 'Lete Foho'), ('Ermera', 'Railaco'), ('Liquica', 'Maubara'), ('Manufahi', 'Same'), ('Manatuto', 'Barique'), ('Manatuto', 'Laclubar'), ('Manufahi', 'Alas'), ('Covalima', 'Fatumea'), ('Manatuto', 'Manatuto'), ('Covalima', 'Mau katar')]\n",
      "[('Ainaro', 'Ainaro'), ('Aileiu', 'Remexio'), ('Manatuto', 'Laclo'), ('Aileiu', 'Laulara'), ('Ermera', 'Hatolia'), ('Liquica', 'Bazartete'), ('Liquica', 'Liquica'), ('Ermera', 'Lete Foho'), ('Ermera', 'Railaco'), ('Liquica', 'Maubara'), ('Manufahi', 'Same'), ('Manatuto', 'Barique'), ('Manatuto', 'Laclubar'), ('Manufahi', 'Alas'), ('Covalima', 'Fatumea'), ('Manatuto', 'Manatuto'), ('Covalima', 'Mau katar'), ('Manatuto', 'Soibada')]\n",
      "[('Ainaro', 'Ainaro'), ('Aileiu', 'Remexio'), ('Manatuto', 'Laclo'), ('Aileiu', 'Laulara'), ('Ermera', 'Hatolia'), ('Liquica', 'Bazartete'), ('Liquica', 'Liquica'), ('Ermera', 'Lete Foho'), ('Ermera', 'Railaco'), ('Liquica', 'Maubara'), ('Manufahi', 'Same'), ('Manatuto', 'Barique'), ('Manatuto', 'Laclubar'), ('Manufahi', 'Alas'), ('Covalima', 'Fatumea'), ('Manatuto', 'Manatuto'), ('Covalima', 'Mau katar'), ('Manatuto', 'Soibada'), ('Manufahi', 'Fatuberliu')]\n",
      "[('Ainaro', 'Ainaro'), ('Aileiu', 'Remexio'), ('Manatuto', 'Laclo'), ('Aileiu', 'Laulara'), ('Ermera', 'Hatolia'), ('Liquica', 'Bazartete'), ('Liquica', 'Liquica'), ('Ermera', 'Lete Foho'), ('Ermera', 'Railaco'), ('Liquica', 'Maubara'), ('Manufahi', 'Same'), ('Manatuto', 'Barique'), ('Manatuto', 'Laclubar'), ('Manufahi', 'Alas'), ('Covalima', 'Fatumea'), ('Manatuto', 'Manatuto'), ('Covalima', 'Mau katar'), ('Manatuto', 'Soibada'), ('Manufahi', 'Fatuberliu'), ('Manufahi', 'Turiscal')]\n",
      "[('Ainaro', 'Ainaro'), ('Aileiu', 'Remexio'), ('Manatuto', 'Laclo'), ('Aileiu', 'Laulara'), ('Ermera', 'Hatolia'), ('Liquica', 'Bazartete'), ('Liquica', 'Liquica'), ('Ermera', 'Lete Foho'), ('Ermera', 'Railaco'), ('Liquica', 'Maubara'), ('Manufahi', 'Same'), ('Manatuto', 'Barique'), ('Manatuto', 'Laclubar'), ('Manufahi', 'Alas'), ('Covalima', 'Fatumea'), ('Manatuto', 'Manatuto'), ('Covalima', 'Mau katar'), ('Manatuto', 'Soibada'), ('Manufahi', 'Fatuberliu'), ('Manufahi', 'Turiscal'), ('Covalima', 'Fatululik')]\n",
      "[('Ainaro', 'Ainaro'), ('Aileiu', 'Remexio'), ('Manatuto', 'Laclo'), ('Aileiu', 'Laulara'), ('Ermera', 'Hatolia'), ('Liquica', 'Bazartete'), ('Liquica', 'Liquica'), ('Ermera', 'Lete Foho'), ('Ermera', 'Railaco'), ('Liquica', 'Maubara'), ('Manufahi', 'Same'), ('Manatuto', 'Barique'), ('Manatuto', 'Laclubar'), ('Manufahi', 'Alas'), ('Covalima', 'Fatumea'), ('Manatuto', 'Manatuto'), ('Covalima', 'Mau katar'), ('Manatuto', 'Soibada'), ('Manufahi', 'Fatuberliu'), ('Manufahi', 'Turiscal'), ('Covalima', 'Fatululik'), ('Ainaro', 'Hatu Udo')]\n",
      "[('Ainaro', 'Ainaro'), ('Aileiu', 'Remexio'), ('Manatuto', 'Laclo'), ('Aileiu', 'Laulara'), ('Ermera', 'Hatolia'), ('Liquica', 'Bazartete'), ('Liquica', 'Liquica'), ('Ermera', 'Lete Foho'), ('Ermera', 'Railaco'), ('Liquica', 'Maubara'), ('Manufahi', 'Same'), ('Manatuto', 'Barique'), ('Manatuto', 'Laclubar'), ('Manufahi', 'Alas'), ('Covalima', 'Fatumea'), ('Manatuto', 'Manatuto'), ('Covalima', 'Mau katar'), ('Manatuto', 'Soibada'), ('Manufahi', 'Fatuberliu'), ('Manufahi', 'Turiscal'), ('Covalima', 'Fatululik'), ('Ainaro', 'Hatu Udo'), ('Ainaro', 'Maubisse')]\n",
      "[('Ainaro', 'Ainaro'), ('Aileiu', 'Remexio'), ('Manatuto', 'Laclo'), ('Aileiu', 'Laulara'), ('Ermera', 'Hatolia'), ('Liquica', 'Bazartete'), ('Liquica', 'Liquica'), ('Ermera', 'Lete Foho'), ('Ermera', 'Railaco'), ('Liquica', 'Maubara'), ('Manufahi', 'Same'), ('Manatuto', 'Barique'), ('Manatuto', 'Laclubar'), ('Manufahi', 'Alas'), ('Covalima', 'Fatumea'), ('Manatuto', 'Manatuto'), ('Covalima', 'Mau katar'), ('Manatuto', 'Soibada'), ('Manufahi', 'Fatuberliu'), ('Manufahi', 'Turiscal'), ('Covalima', 'Fatululik'), ('Ainaro', 'Hatu Udo'), ('Ainaro', 'Maubisse'), ('Ermera', 'Ermera Villa')]\n",
      "[('Ainaro', 'Ainaro'), ('Aileiu', 'Remexio'), ('Manatuto', 'Laclo'), ('Aileiu', 'Laulara'), ('Ermera', 'Hatolia'), ('Liquica', 'Bazartete'), ('Liquica', 'Liquica'), ('Ermera', 'Lete Foho'), ('Ermera', 'Railaco'), ('Liquica', 'Maubara'), ('Manufahi', 'Same'), ('Manatuto', 'Barique'), ('Manatuto', 'Laclubar'), ('Manufahi', 'Alas'), ('Covalima', 'Fatumea'), ('Manatuto', 'Manatuto'), ('Covalima', 'Mau katar'), ('Manatuto', 'Soibada'), ('Manufahi', 'Fatuberliu'), ('Manufahi', 'Turiscal'), ('Covalima', 'Fatululik'), ('Ainaro', 'Hatu Udo'), ('Ainaro', 'Maubisse'), ('Ermera', 'Ermera Villa'), ('Covalima', 'Suai Villa ')]\n",
      "[('Ainaro', 'Ainaro'), ('Aileiu', 'Remexio'), ('Manatuto', 'Laclo'), ('Aileiu', 'Laulara'), ('Ermera', 'Hatolia'), ('Liquica', 'Bazartete'), ('Liquica', 'Liquica'), ('Ermera', 'Lete Foho'), ('Ermera', 'Railaco'), ('Liquica', 'Maubara'), ('Manufahi', 'Same'), ('Manatuto', 'Barique'), ('Manatuto', 'Laclubar'), ('Manufahi', 'Alas'), ('Covalima', 'Fatumea'), ('Manatuto', 'Manatuto'), ('Covalima', 'Mau katar'), ('Manatuto', 'Soibada'), ('Manufahi', 'Fatuberliu'), ('Manufahi', 'Turiscal'), ('Covalima', 'Fatululik'), ('Ainaro', 'Hatu Udo'), ('Ainaro', 'Maubisse'), ('Ermera', 'Ermera Villa'), ('Covalima', 'Suai Villa '), ('Aileiu', 'Aileu Villa')]\n",
      "[('Ainaro', 'Ainaro'), ('Aileiu', 'Remexio'), ('Manatuto', 'Laclo'), ('Aileiu', 'Laulara'), ('Ermera', 'Hatolia'), ('Liquica', 'Bazartete'), ('Liquica', 'Liquica'), ('Ermera', 'Lete Foho'), ('Ermera', 'Railaco'), ('Liquica', 'Maubara'), ('Manufahi', 'Same'), ('Manatuto', 'Barique'), ('Manatuto', 'Laclubar'), ('Manufahi', 'Alas'), ('Covalima', 'Fatumea'), ('Manatuto', 'Manatuto'), ('Covalima', 'Mau katar'), ('Manatuto', 'Soibada'), ('Manufahi', 'Fatuberliu'), ('Manufahi', 'Turiscal'), ('Covalima', 'Fatululik'), ('Ainaro', 'Hatu Udo'), ('Ainaro', 'Maubisse'), ('Ermera', 'Ermera Villa'), ('Covalima', 'Suai Villa '), ('Aileiu', 'Aileu Villa'), ('Aileiu', 'Liquidoe')]\n",
      "[('Ainaro', 'Ainaro'), ('Aileiu', 'Remexio'), ('Manatuto', 'Laclo'), ('Aileiu', 'Laulara'), ('Ermera', 'Hatolia'), ('Liquica', 'Bazartete'), ('Liquica', 'Liquica'), ('Ermera', 'Lete Foho'), ('Ermera', 'Railaco'), ('Liquica', 'Maubara'), ('Manufahi', 'Same'), ('Manatuto', 'Barique'), ('Manatuto', 'Laclubar'), ('Manufahi', 'Alas'), ('Covalima', 'Fatumea'), ('Manatuto', 'Manatuto'), ('Covalima', 'Mau katar'), ('Manatuto', 'Soibada'), ('Manufahi', 'Fatuberliu'), ('Manufahi', 'Turiscal'), ('Covalima', 'Fatululik'), ('Ainaro', 'Hatu Udo'), ('Ainaro', 'Maubisse'), ('Ermera', 'Ermera Villa'), ('Covalima', 'Suai Villa '), ('Aileiu', 'Aileu Villa'), ('Aileiu', 'Liquidoe'), ('Ermera', 'Atsabe')]\n",
      "[('Ainaro', 'Ainaro'), ('Aileiu', 'Remexio'), ('Manatuto', 'Laclo'), ('Aileiu', 'Laulara'), ('Ermera', 'Hatolia'), ('Liquica', 'Bazartete'), ('Liquica', 'Liquica'), ('Ermera', 'Lete Foho'), ('Ermera', 'Railaco'), ('Liquica', 'Maubara'), ('Manufahi', 'Same'), ('Manatuto', 'Barique'), ('Manatuto', 'Laclubar'), ('Manufahi', 'Alas'), ('Covalima', 'Fatumea'), ('Manatuto', 'Manatuto'), ('Covalima', 'Mau katar'), ('Manatuto', 'Soibada'), ('Manufahi', 'Fatuberliu'), ('Manufahi', 'Turiscal'), ('Covalima', 'Fatululik'), ('Ainaro', 'Hatu Udo'), ('Ainaro', 'Maubisse'), ('Ermera', 'Ermera Villa'), ('Covalima', 'Suai Villa '), ('Aileiu', 'Aileu Villa'), ('Aileiu', 'Liquidoe'), ('Ermera', 'Atsabe'), ('Ainaro', 'Hatu Builico')]\n",
      "[('Ainaro', 'Ainaro'), ('Aileiu', 'Remexio'), ('Manatuto', 'Laclo'), ('Aileiu', 'Laulara'), ('Ermera', 'Hatolia'), ('Liquica', 'Bazartete'), ('Liquica', 'Liquica'), ('Ermera', 'Lete Foho'), ('Ermera', 'Railaco'), ('Liquica', 'Maubara'), ('Manufahi', 'Same'), ('Manatuto', 'Barique'), ('Manatuto', 'Laclubar'), ('Manufahi', 'Alas'), ('Covalima', 'Fatumea'), ('Manatuto', 'Manatuto'), ('Covalima', 'Mau katar'), ('Manatuto', 'Soibada'), ('Manufahi', 'Fatuberliu'), ('Manufahi', 'Turiscal'), ('Covalima', 'Fatululik'), ('Ainaro', 'Hatu Udo'), ('Ainaro', 'Maubisse'), ('Ermera', 'Ermera Villa'), ('Covalima', 'Suai Villa '), ('Aileiu', 'Aileu Villa'), ('Aileiu', 'Liquidoe'), ('Ermera', 'Atsabe'), ('Ainaro', 'Hatu Builico'), ('Baucau', 'Laga')]\n",
      "[('Ainaro', 'Ainaro'), ('Aileiu', 'Remexio'), ('Manatuto', 'Laclo'), ('Aileiu', 'Laulara'), ('Ermera', 'Hatolia'), ('Liquica', 'Bazartete'), ('Liquica', 'Liquica'), ('Ermera', 'Lete Foho'), ('Ermera', 'Railaco'), ('Liquica', 'Maubara'), ('Manufahi', 'Same'), ('Manatuto', 'Barique'), ('Manatuto', 'Laclubar'), ('Manufahi', 'Alas'), ('Covalima', 'Fatumea'), ('Manatuto', 'Manatuto'), ('Covalima', 'Mau katar'), ('Manatuto', 'Soibada'), ('Manufahi', 'Fatuberliu'), ('Manufahi', 'Turiscal'), ('Covalima', 'Fatululik'), ('Ainaro', 'Hatu Udo'), ('Ainaro', 'Maubisse'), ('Ermera', 'Ermera Villa'), ('Covalima', 'Suai Villa '), ('Aileiu', 'Aileu Villa'), ('Aileiu', 'Liquidoe'), ('Ermera', 'Atsabe'), ('Ainaro', 'Hatu Builico'), ('Baucau', 'Laga'), ('Covalima', 'Fohoren')]\n",
      "[('Ainaro', 'Ainaro'), ('Aileiu', 'Remexio'), ('Manatuto', 'Laclo'), ('Aileiu', 'Laulara'), ('Ermera', 'Hatolia'), ('Liquica', 'Bazartete'), ('Liquica', 'Liquica'), ('Ermera', 'Lete Foho'), ('Ermera', 'Railaco'), ('Liquica', 'Maubara'), ('Manufahi', 'Same'), ('Manatuto', 'Barique'), ('Manatuto', 'Laclubar'), ('Manufahi', 'Alas'), ('Covalima', 'Fatumea'), ('Manatuto', 'Manatuto'), ('Covalima', 'Mau katar'), ('Manatuto', 'Soibada'), ('Manufahi', 'Fatuberliu'), ('Manufahi', 'Turiscal'), ('Covalima', 'Fatululik'), ('Ainaro', 'Hatu Udo'), ('Ainaro', 'Maubisse'), ('Ermera', 'Ermera Villa'), ('Covalima', 'Suai Villa '), ('Aileiu', 'Aileu Villa'), ('Aileiu', 'Liquidoe'), ('Ermera', 'Atsabe'), ('Ainaro', 'Hatu Builico'), ('Baucau', 'Laga'), ('Covalima', 'Fohoren'), ('Baucau', 'Bauguia')]\n",
      "[('Ainaro', 'Ainaro'), ('Aileiu', 'Remexio'), ('Manatuto', 'Laclo'), ('Aileiu', 'Laulara'), ('Ermera', 'Hatolia'), ('Liquica', 'Bazartete'), ('Liquica', 'Liquica'), ('Ermera', 'Lete Foho'), ('Ermera', 'Railaco'), ('Liquica', 'Maubara'), ('Manufahi', 'Same'), ('Manatuto', 'Barique'), ('Manatuto', 'Laclubar'), ('Manufahi', 'Alas'), ('Covalima', 'Fatumea'), ('Manatuto', 'Manatuto'), ('Covalima', 'Mau katar'), ('Manatuto', 'Soibada'), ('Manufahi', 'Fatuberliu'), ('Manufahi', 'Turiscal'), ('Covalima', 'Fatululik'), ('Ainaro', 'Hatu Udo'), ('Ainaro', 'Maubisse'), ('Ermera', 'Ermera Villa'), ('Covalima', 'Suai Villa '), ('Aileiu', 'Aileu Villa'), ('Aileiu', 'Liquidoe'), ('Ermera', 'Atsabe'), ('Ainaro', 'Hatu Builico'), ('Baucau', 'Laga'), ('Covalima', 'Fohoren'), ('Baucau', 'Bauguia'), ('Covalima', 'Zumalai')]\n",
      "[('Ainaro', 'Ainaro'), ('Aileiu', 'Remexio'), ('Manatuto', 'Laclo'), ('Aileiu', 'Laulara'), ('Ermera', 'Hatolia'), ('Liquica', 'Bazartete'), ('Liquica', 'Liquica'), ('Ermera', 'Lete Foho'), ('Ermera', 'Railaco'), ('Liquica', 'Maubara'), ('Manufahi', 'Same'), ('Manatuto', 'Barique'), ('Manatuto', 'Laclubar'), ('Manufahi', 'Alas'), ('Covalima', 'Fatumea'), ('Manatuto', 'Manatuto'), ('Covalima', 'Mau katar'), ('Manatuto', 'Soibada'), ('Manufahi', 'Fatuberliu'), ('Manufahi', 'Turiscal'), ('Covalima', 'Fatululik'), ('Ainaro', 'Hatu Udo'), ('Ainaro', 'Maubisse'), ('Ermera', 'Ermera Villa'), ('Covalima', 'Suai Villa '), ('Aileiu', 'Aileu Villa'), ('Aileiu', 'Liquidoe'), ('Ermera', 'Atsabe'), ('Ainaro', 'Hatu Builico'), ('Baucau', 'Laga'), ('Covalima', 'Fohoren'), ('Baucau', 'Bauguia'), ('Covalima', 'Zumalai'), ('Baucau', 'Baucau Vila')]\n",
      "[('Ainaro', 'Ainaro'), ('Aileiu', 'Remexio'), ('Manatuto', 'Laclo'), ('Aileiu', 'Laulara'), ('Ermera', 'Hatolia'), ('Liquica', 'Bazartete'), ('Liquica', 'Liquica'), ('Ermera', 'Lete Foho'), ('Ermera', 'Railaco'), ('Liquica', 'Maubara'), ('Manufahi', 'Same'), ('Manatuto', 'Barique'), ('Manatuto', 'Laclubar'), ('Manufahi', 'Alas'), ('Covalima', 'Fatumea'), ('Manatuto', 'Manatuto'), ('Covalima', 'Mau katar'), ('Manatuto', 'Soibada'), ('Manufahi', 'Fatuberliu'), ('Manufahi', 'Turiscal'), ('Covalima', 'Fatululik'), ('Ainaro', 'Hatu Udo'), ('Ainaro', 'Maubisse'), ('Ermera', 'Ermera Villa'), ('Covalima', 'Suai Villa '), ('Aileiu', 'Aileu Villa'), ('Aileiu', 'Liquidoe'), ('Ermera', 'Atsabe'), ('Ainaro', 'Hatu Builico'), ('Baucau', 'Laga'), ('Covalima', 'Fohoren'), ('Baucau', 'Bauguia'), ('Covalima', 'Zumalai'), ('Baucau', 'Baucau Vila'), ('Covalima', 'Tilomar')]\n",
      "[('Ainaro', 'Ainaro'), ('Aileiu', 'Remexio'), ('Manatuto', 'Laclo'), ('Aileiu', 'Laulara'), ('Ermera', 'Hatolia'), ('Liquica', 'Bazartete'), ('Liquica', 'Liquica'), ('Ermera', 'Lete Foho'), ('Ermera', 'Railaco'), ('Liquica', 'Maubara'), ('Manufahi', 'Same'), ('Manatuto', 'Barique'), ('Manatuto', 'Laclubar'), ('Manufahi', 'Alas'), ('Covalima', 'Fatumea'), ('Manatuto', 'Manatuto'), ('Covalima', 'Mau katar'), ('Manatuto', 'Soibada'), ('Manufahi', 'Fatuberliu'), ('Manufahi', 'Turiscal'), ('Covalima', 'Fatululik'), ('Ainaro', 'Hatu Udo'), ('Ainaro', 'Maubisse'), ('Ermera', 'Ermera Villa'), ('Covalima', 'Suai Villa '), ('Aileiu', 'Aileu Villa'), ('Aileiu', 'Liquidoe'), ('Ermera', 'Atsabe'), ('Ainaro', 'Hatu Builico'), ('Baucau', 'Laga'), ('Covalima', 'Fohoren'), ('Baucau', 'Bauguia'), ('Covalima', 'Zumalai'), ('Baucau', 'Baucau Vila'), ('Covalima', 'Tilomar'), ('Baucau', 'Quelicai')]\n",
      "[('Ainaro', 'Ainaro'), ('Aileiu', 'Remexio'), ('Manatuto', 'Laclo'), ('Aileiu', 'Laulara'), ('Ermera', 'Hatolia'), ('Liquica', 'Bazartete'), ('Liquica', 'Liquica'), ('Ermera', 'Lete Foho'), ('Ermera', 'Railaco'), ('Liquica', 'Maubara'), ('Manufahi', 'Same'), ('Manatuto', 'Barique'), ('Manatuto', 'Laclubar'), ('Manufahi', 'Alas'), ('Covalima', 'Fatumea'), ('Manatuto', 'Manatuto'), ('Covalima', 'Mau katar'), ('Manatuto', 'Soibada'), ('Manufahi', 'Fatuberliu'), ('Manufahi', 'Turiscal'), ('Covalima', 'Fatululik'), ('Ainaro', 'Hatu Udo'), ('Ainaro', 'Maubisse'), ('Ermera', 'Ermera Villa'), ('Covalima', 'Suai Villa '), ('Aileiu', 'Aileu Villa'), ('Aileiu', 'Liquidoe'), ('Ermera', 'Atsabe'), ('Ainaro', 'Hatu Builico'), ('Baucau', 'Laga'), ('Covalima', 'Fohoren'), ('Baucau', 'Bauguia'), ('Covalima', 'Zumalai'), ('Baucau', 'Baucau Vila'), ('Covalima', 'Tilomar'), ('Baucau', 'Quelicai'), ('Baucau', 'Vemasse')]\n",
      "[('Ainaro', 'Ainaro'), ('Aileiu', 'Remexio'), ('Manatuto', 'Laclo'), ('Aileiu', 'Laulara'), ('Ermera', 'Hatolia'), ('Liquica', 'Bazartete'), ('Liquica', 'Liquica'), ('Ermera', 'Lete Foho'), ('Ermera', 'Railaco'), ('Liquica', 'Maubara'), ('Manufahi', 'Same'), ('Manatuto', 'Barique'), ('Manatuto', 'Laclubar'), ('Manufahi', 'Alas'), ('Covalima', 'Fatumea'), ('Manatuto', 'Manatuto'), ('Covalima', 'Mau katar'), ('Manatuto', 'Soibada'), ('Manufahi', 'Fatuberliu'), ('Manufahi', 'Turiscal'), ('Covalima', 'Fatululik'), ('Ainaro', 'Hatu Udo'), ('Ainaro', 'Maubisse'), ('Ermera', 'Ermera Villa'), ('Covalima', 'Suai Villa '), ('Aileiu', 'Aileu Villa'), ('Aileiu', 'Liquidoe'), ('Ermera', 'Atsabe'), ('Ainaro', 'Hatu Builico'), ('Baucau', 'Laga'), ('Covalima', 'Fohoren'), ('Baucau', 'Bauguia'), ('Covalima', 'Zumalai'), ('Baucau', 'Baucau Vila'), ('Covalima', 'Tilomar'), ('Baucau', 'Quelicai'), ('Baucau', 'Vemasse'), ('Baucau', 'Venilale')]\n",
      "    District   Subdistrict\n",
      "25    Aileiu   Aileu Villa\n",
      "3     Aileiu       Laulara\n",
      "26    Aileiu      Liquidoe\n",
      "1     Aileiu       Remexio\n",
      "0     Ainaro        Ainaro\n",
      "28    Ainaro  Hatu Builico\n",
      "21    Ainaro      Hatu Udo\n",
      "22    Ainaro      Maubisse\n",
      "33    Baucau   Baucau Vila\n",
      "31    Baucau       Bauguia\n",
      "29    Baucau          Laga\n",
      "35    Baucau      Quelicai\n",
      "36    Baucau       Vemasse\n",
      "37    Baucau      Venilale\n",
      "20  Covalima     Fatululik\n",
      "14  Covalima       Fatumea\n",
      "30  Covalima       Fohoren\n",
      "16  Covalima     Mau katar\n",
      "24  Covalima   Suai Villa \n",
      "34  Covalima       Tilomar\n",
      "32  Covalima       Zumalai\n",
      "27    Ermera        Atsabe\n",
      "23    Ermera  Ermera Villa\n",
      "4     Ermera       Hatolia\n",
      "7     Ermera     Lete Foho\n",
      "8     Ermera       Railaco\n",
      "5    Liquica     Bazartete\n",
      "6    Liquica       Liquica\n",
      "9    Liquica       Maubara\n",
      "11  Manatuto       Barique\n",
      "2   Manatuto         Laclo\n",
      "12  Manatuto      Laclubar\n",
      "15  Manatuto      Manatuto\n",
      "17  Manatuto       Soibada\n",
      "13  Manufahi          Alas\n",
      "18  Manufahi    Fatuberliu\n",
      "10  Manufahi          Same\n",
      "19  Manufahi      Turiscal\n",
      "    District   Subdistrict\n",
      "25    Aileiu   Aileu Villa\n",
      "3     Aileiu       Laulara\n",
      "26    Aileiu      Liquidoe\n",
      "1     Aileiu       Remexio\n",
      "0     Ainaro        Ainaro\n",
      "28    Ainaro  Hatu Builico\n",
      "21    Ainaro      Hatu Udo\n",
      "22    Ainaro      Maubisse\n",
      "33    Baucau   Baucau Vila\n",
      "31    Baucau       Bauguia\n",
      "29    Baucau          Laga\n",
      "35    Baucau      Quelicai\n",
      "36    Baucau       Vemasse\n",
      "37    Baucau      Venilale\n",
      "20  Covalima     Fatululik\n",
      "14  Covalima       Fatumea\n",
      "30  Covalima       Fohoren\n",
      "16  Covalima     Mau katar\n",
      "24  Covalima   Suai Villa \n",
      "34  Covalima       Tilomar\n",
      "32  Covalima       Zumalai\n",
      "27    Ermera        Atsabe\n",
      "23    Ermera  Ermera Villa\n",
      "4     Ermera       Hatolia\n",
      "7     Ermera     Lete Foho\n",
      "8     Ermera       Railaco\n",
      "5    Liquica     Bazartete\n",
      "6    Liquica       Liquica\n",
      "9    Liquica       Maubara\n",
      "11  Manatuto       Barique\n",
      "2   Manatuto         Laclo\n",
      "12  Manatuto      Laclubar\n",
      "15  Manatuto      Manatuto\n",
      "17  Manatuto       Soibada\n",
      "13  Manufahi          Alas\n",
      "18  Manufahi    Fatuberliu\n",
      "10  Manufahi          Same\n",
      "19  Manufahi      Turiscal\n"
     ]
    }
   ],
   "source": [
    "import pandas \n",
    "data = pandas.read_excel('Places.xlsx') \n",
    "places = []\n",
    "for row in data[1:].iterrows():\n",
    "    places.append((row[1][0], row[1][1]))\n",
    "    print (places)\n",
    "    \n",
    "\n",
    "data = pandas.read_excel('Places_well_formatted.xlsx')\n",
    "data.sort_values(['District', 'Subdistrict'], inplace=True) # like calling data.sort()\n",
    "# sorted_data = data.sort_values(['District', 'Subdistrict'], inplace=False) # like calling sorted(data)\n",
    "print(data)\n",
    "data.to_excel('Places_ordered.xlsx')\n",
    "print (data)"
   ]
  },
  {
   "cell_type": "markdown",
   "metadata": {},
   "source": [
    "# Python create CSV file"
   ]
  },
  {
   "cell_type": "code",
   "execution_count": 139,
   "metadata": {},
   "outputs": [],
   "source": [
    "import csv\n",
    "\n",
    "with open('eggs.csv', 'w') as csvfile:\n",
    "    rows = csv.reader(csvfile)\n",
    "    spamwriter = csv.writer(csvfile, delimiter=' ',\n",
    "                            quotechar='|', quoting=csv.QUOTE_MINIMAL)\n",
    "    spamwriter.writerow(['Spam', 'Hello', 'World'])\n",
    "    spamwriter.writerow(['Spam', 'Lovely Spam', 'Wonderful Spam'])"
   ]
  },
  {
   "cell_type": "code",
   "execution_count": null,
   "metadata": {},
   "outputs": [],
   "source": [
    "# Python connections database with posgresql"
   ]
  },
  {
   "cell_type": "code",
   "execution_count": null,
   "metadata": {},
   "outputs": [],
   "source": [
    "import csv\n",
    "import psycopg2\n",
    "\n",
    "try:\n",
    "    conn = psycopg2.connect(\"dbname='issues_db'\")\n",
    "except:\n",
    "    print(\"I am unable to connect to the database.\")\n",
    "    \n",
    "cur = conn.cursor()\n",
    "try:\n",
    "    cur.execute(\"\"\"SELECT * from auth_user\"\"\")\n",
    "\n",
    "except:\n",
    "    print(\"I can't SELECT from auth_user\")\n",
    "\n",
    "\n",
    "with open('auth.csv', 'w') as csvfile:\n",
    "    spamwriter = csv.writer(csvfile)\n",
    "    for row in cur.fetchall():\n",
    "        spamwriter.writerow(row)\n",
    "\n",
    "conn.close()"
   ]
  },
  {
   "cell_type": "code",
   "execution_count": null,
   "metadata": {},
   "outputs": [],
   "source": [
    "conn = psycopg2.connect(\"dbname='issues_db'\")\n",
    "data = pandas.read_sql(\"\"\"SELECT * from auth_user\"\"\", conn)\n",
    "data.to_excel('names.xlsx')\n",
    "conn.close() "
   ]
  }
 ],
 "metadata": {
  "kernelspec": {
   "display_name": "Python 3",
   "language": "python",
   "name": "python3"
  },
  "language_info": {
   "codemirror_mode": {
    "name": "ipython",
    "version": 3
   },
   "file_extension": ".py",
   "mimetype": "text/x-python",
   "name": "python",
   "nbconvert_exporter": "python",
   "pygments_lexer": "ipython3",
   "version": "3.6.1"
  }
 },
 "nbformat": 4,
 "nbformat_minor": 2
}
