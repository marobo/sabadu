{
 "cells": [
  {
   "cell_type": "code",
   "execution_count": 1,
   "metadata": {
    "collapsed": true
   },
   "outputs": [],
   "source": [
    "def get_length_required(measurements):\n",
    "    '''\n",
    "    You will receive an array of measurements in the following order:\n",
    "\n",
    "    [height, length, width]\n",
    "    The measurements are going to be given to you in string format with some examples below:\n",
    "\n",
    "    [\"1\\' 2 3/8\\\"\", \"1\\' 6\\\"\", \"1\\\"\"]\n",
    "    [\"4\\\"\", \"1 1/2\\\"\", \"5/32\\\"\"]\n",
    "    Your job is to return a string that gives the length of trim required. \n",
    "    We will use normal measuring tape denominations of 2,4,8,16,32 if any fractions are needed. \n",
    "    Remember that the interior edge must be from the same side of the trim.\n",
    "    '''\n",
    "    \n",
    "    # parse the measurements into numbers\n",
    "    height_str = measurements[0]\n",
    "    length_str = measurements[1]\n",
    "    width_str = measurements[2]\n",
    "    \n",
    "    height = get_feet_and_inches(height_str)\n",
    "    length = get_feet_and_inches(length_str)\n",
    "    width = get_feet_and_inches(width_str)\n",
    "    \n",
    "    total = get_total_length(height, length, width)\n",
    "    \n",
    "    return total\n",
    "\n",
    "def get_feet_and_inches(measurement):\n",
    "    '''\n",
    "    should return a tuple (feet, inches) from the measurement string\n",
    "    >>> get_feet_and_inches(\"4'\")\n",
    "    (4, 0)\n",
    "    >>> get_feet_and_inches(\"2' 1\\\"\")\n",
    "    (2, 1)\n",
    "    >>> get_feet_and_inches(\"2' 1 1/2\\\"\")\n",
    "    (2, 1.5) \n",
    "    '''\n",
    "    pass\n",
    "\n",
    "def get_total_length(height, length, width):\n",
    "    '''\n",
    "    work out the total length of border needed to build a picture frame\n",
    "    height, length, width are tuples of feet and inches\n",
    "    '''\n",
    "    return 0"
   ]
  },
  {
   "cell_type": "code",
   "execution_count": 8,
   "metadata": {},
   "outputs": [
    {
     "data": {
      "text/plain": [
       "3"
      ]
     },
     "execution_count": 8,
     "metadata": {},
     "output_type": "execute_result"
    }
   ],
   "source": [
    "num = [ 4, 5, 5, 4, 2, 3, 3, 3, 2, 78, 78]\n",
    "def odd_occurerence(num):\n",
    "    result = 0\n",
    "    for element in num:\n",
    "        result = result ^ element\n",
    "    return result\n",
    "\n",
    "odd_occurerence(num)"
   ]
  },
  {
   "cell_type": "code",
   "execution_count": 9,
   "metadata": {},
   "outputs": [
    {
     "data": {
      "text/plain": [
       "[3]"
      ]
     },
     "execution_count": 9,
     "metadata": {},
     "output_type": "execute_result"
    }
   ],
   "source": [
    "from collections import Counter\n",
    "def apeu(nums):\n",
    "    counts = Counter(nums)\n",
    "    numbers_in_the_list_an_odd_hnumber_of_times = []\n",
    "    for number, count in counts.items():\n",
    "        if count % 2 == 1:\n",
    "            numbers_in_the_list_an_odd_hnumber_of_times += [number]\n",
    "    return numbers_in_the_list_an_odd_hnumber_of_times\n",
    "\n",
    "apeu(num)"
   ]
  },
  {
   "cell_type": "code",
   "execution_count": 42,
   "metadata": {},
   "outputs": [],
   "source": [
    "s=\"This is New York\"\n",
    "# split first\n",
    "a=s.split()\n",
    "# reverse list\n",
    "a.reverse()\n",
    "# now print\n",
    "result = \" \".join(a)"
   ]
  },
  {
   "cell_type": "code",
   "execution_count": 37,
   "metadata": {},
   "outputs": [
    {
     "name": "stdout",
     "output_type": "stream",
     "text": [
      "!elpmaxe na si sihT\n"
     ]
    }
   ],
   "source": [
    "s=\"This is an example!\"\n",
    "def reverse(text):\n",
    "    a = \"\"\n",
    "    for i in range(1, len(text) + 1):\n",
    "        a += text[len(text) - i]\n",
    "    return a\n",
    "\n",
    "print(reverse(s))"
   ]
  },
  {
   "cell_type": "code",
   "execution_count": 43,
   "metadata": {},
   "outputs": [
    {
     "ename": "SyntaxError",
     "evalue": "invalid syntax (<ipython-input-43-164479a17f6a>, line 6)",
     "output_type": "error",
     "traceback": [
      "\u001b[0;36m  File \u001b[0;32m\"<ipython-input-43-164479a17f6a>\"\u001b[0;36m, line \u001b[0;32m6\u001b[0m\n\u001b[0;31m    .reverse()\u001b[0m\n\u001b[0m    ^\u001b[0m\n\u001b[0;31mSyntaxError\u001b[0m\u001b[0;31m:\u001b[0m invalid syntax\n"
     ]
    }
   ],
   "source": [
    "s=\"This is an example!\"\n",
    "def reverse_word(s):\n",
    "    a = \"\"\n",
    "    text = s.split()\n",
    "    for i in text:\n",
    "        .reverse()\n",
    "        \n",
    "    return a\n",
    "\n",
    "reverse_word(s)"
   ]
  },
  {
   "cell_type": "code",
   "execution_count": 1,
   "metadata": {},
   "outputs": [
    {
     "data": {
      "text/plain": [
       "'2000 + 300 + 40 + 5'"
      ]
     },
     "execution_count": 1,
     "metadata": {},
     "output_type": "execute_result"
    }
   ],
   "source": [
    "def expanded_form(num):\n",
    "    result = []\n",
    "\n",
    "    for index, digit in enumerate(str(num)[::-1]):\n",
    "        if int(digit) != 0:\n",
    "            result.append(digit + ('0' * index))\n",
    "\n",
    "    return ' + '.join(result[::-1])\n",
    "expanded_form(2345)"
   ]
  },
  {
   "cell_type": "code",
   "execution_count": 5,
   "metadata": {},
   "outputs": [
    {
     "data": {
      "text/plain": [
       "'2000 + 300 + 40 + 5'"
      ]
     },
     "execution_count": 5,
     "metadata": {},
     "output_type": "execute_result"
    }
   ],
   "source": [
    "def expanded_form(num):\n",
    "    result = []\n",
    "    divider = 10\n",
    "    while divider < num:\n",
    "        temp = num%divider\n",
    "        if temp != 0:\n",
    "            result.insert(0, str(temp))\n",
    "        num -= temp\n",
    "        divider *= 10\n",
    "    result.insert(0, str(num))\n",
    "    return ' + '.join(result)\n",
    "\n",
    "expanded_form(2345)"
   ]
  },
  {
   "cell_type": "code",
   "execution_count": 6,
   "metadata": {},
   "outputs": [
    {
     "name": "stdout",
     "output_type": "stream",
     "text": [
      "[3, 2, 1]\n"
     ]
    }
   ],
   "source": [
    "lista = 1, 2, 3]\n",
    "lista.reverse()\n",
    "print(lista)"
   ]
  },
  {
   "cell_type": "code",
   "execution_count": null,
   "metadata": {},
   "outputs": [],
   "source": []
  }
 ],
 "metadata": {
  "kernelspec": {
   "display_name": "Python 2",
   "language": "python",
   "name": "python2"
  },
  "language_info": {
   "codemirror_mode": {
    "name": "ipython",
    "version": 2
   },
   "file_extension": ".py",
   "mimetype": "text/x-python",
   "name": "python",
   "nbconvert_exporter": "python",
   "pygments_lexer": "ipython2",
   "version": "2.7.15rc1"
  }
 },
 "nbformat": 4,
 "nbformat_minor": 2
}
