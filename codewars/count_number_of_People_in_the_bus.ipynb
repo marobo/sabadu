{
 "cells": [
  {
   "cell_type": "markdown",
   "metadata": {},
   "source": [
    "### Calculate how many people are in last bus\n"
   ]
  },
  {
   "cell_type": "code",
   "execution_count": 7,
   "metadata": {},
   "outputs": [
    {
     "name": "stdout",
     "output_type": "stream",
     "text": [
      "Number of people: 12\n",
      "Number of bus seats: 1\n",
      "Number of bus need: 12\n",
      "In last bus number of people: 1.0\n"
     ]
    }
   ],
   "source": [
    "import math\n",
    "\n",
    "# Enter total number of people\n",
    "people = float(input(\"Number of people: \"))\n",
    "# Enter total number of bus seats\n",
    "bus_seats  = float(input(\"Number of bus seats: \"))\n",
    "\n",
    "# Number of people divide by number of bus seats\n",
    "# Which number\n",
    "divide  = math.ceil(people/bus_seats)\n",
    " \n",
    "# If divide equal less than zero:\n",
    "if (divide <= 0):\n",
    "    # Giving the number of bus need one\n",
    "    print(\"Number of bus need: \" + str(1))\n",
    "else:\n",
    "    # Giving the number of bus need (divide)\n",
    "    print(\"Number of bus need: \" + str(divide))\n",
    "    \n",
    "# Calculate the last bus number of people\n",
    "calculate = round(people % bus_seats)\n",
    "\n",
    "# If calculate equal zero\n",
    "if (calculate == 0):\n",
    "    # Giving the last bus number of people in the bus\n",
    "    print(\"In last bus number of people: \" + str(bus_seats))\n",
    "else:\n",
    "    # Result of calculatioon number of people in the last bus\n",
    "    print(\"In last bus number of people: \" + str(calculate))"
   ]
  },
  {
   "cell_type": "code",
   "execution_count": 6,
   "metadata": {},
   "outputs": [
    {
     "data": {
      "text/plain": [
       "{'peaks': [3, 7, 10], 'pos': [1, 3, 7]}"
      ]
     },
     "execution_count": 6,
     "metadata": {},
     "output_type": "execute_result"
    }
   ],
   "source": [
    "def pick_peaks(arr):\n",
    "    pos = []\n",
    "    peaks = []\n",
    "    for index, integer in enumerate(arr):\n",
    "        try:\n",
    "            if arr[index] < arr[index + 1] > arr[index + 2]:\n",
    "                peaks.append(arr[index + 1])\n",
    "                pos.append(index + 1)\n",
    "        except:\n",
    "            pass\n",
    "    return {\"pos\": pos, \"peaks\": peaks}\n",
    "pick_peaks([1, 3, 2, 7, 5, 2, 2, 10, 4])"
   ]
  },
  {
   "cell_type": "code",
   "execution_count": 25,
   "metadata": {},
   "outputs": [
    {
     "name": "stdout",
     "output_type": "stream",
     "text": [
      "Number of people: 12\n",
      "Number of bus seats: 23\n",
      "Number of bus need: 1\n",
      "In last bus number of people: 12\n"
     ]
    }
   ],
   "source": [
    "import math\n",
    "\n",
    "# Enter total number of people\n",
    "people = float(input(\"Number of people: \"))\n",
    "# Enter total number of bus seats\n",
    "bus_seats  = float(input(\"Number of bus seats: \"))\n",
    "\n",
    "def people_in_last_bus(people, bus_seats):\n",
    "    # Number of people divide by number of bus seats\n",
    "    # If the \n",
    "    divide  = math.ceil(people/bus_seats)\n",
    "\n",
    "    # If divide equal less than zero:\n",
    "    if (divide <= 0):\n",
    "        # Giving the number of bus need one\n",
    "        print(\"Number of bus need: \" + str(1))\n",
    "    else:\n",
    "        # Giving the number of bus need (divide)\n",
    "        print(\"Number of bus need: \" + str(divide))\n",
    "\n",
    "    # Calculate the last bus number of people\n",
    "    calculate = round(people % bus_seats)\n",
    "\n",
    "    # If calculate equal zero\n",
    "    if (calculate == 0):\n",
    "        # Giving the last bus number of people in the bus\n",
    "        print(\"In last bus number of peopless: \" + str(bus_seats))\n",
    "    else:\n",
    "        # Result of calculatioon number of people in the last bus\n",
    "        print(\"In last bus number of people: \" + str(calculate))\n",
    "people_in_last_bus(people, bus_seats)"
   ]
  },
  {
   "cell_type": "code",
   "execution_count": null,
   "metadata": {},
   "outputs": [],
   "source": [
    "## "
   ]
  },
  {
   "cell_type": "code",
   "execution_count": 1,
   "metadata": {},
   "outputs": [
    {
     "name": "stdout",
     "output_type": "stream",
     "text": [
      "Number of people: 22\n",
      "Number of bus seats: 22\n",
      "Number of bus need: 1\n",
      "In last bus number of people: 0\n"
     ]
    }
   ],
   "source": [
    "#Calculate how many people are in last bus¶\n",
    "import math\n",
    "# Enter total number of people ()\n",
    "people = abs(int(input(\"Number of people: \")))\n",
    "# Enter total number of bus seats\n",
    "bus_seats = abs(int(input(\"Number of bus seats: \")))\n",
    "print(f\"Number of bus need: { math.ceil(people/bus_seats) }\")\n",
    "print(f\"In last bus number of people: { people % bus_seats }\")"
   ]
  }
 ],
 "metadata": {
  "kernelspec": {
   "display_name": "Python 3",
   "language": "python",
   "name": "python3"
  },
  "language_info": {
   "codemirror_mode": {
    "name": "ipython",
    "version": 3
   },
   "file_extension": ".py",
   "mimetype": "text/x-python",
   "name": "python",
   "nbconvert_exporter": "python",
   "pygments_lexer": "ipython3",
   "version": "3.6.6"
  }
 },
 "nbformat": 4,
 "nbformat_minor": 2
}
