{
 "cells": [
  {
   "cell_type": "markdown",
   "metadata": {},
   "source": [
    "## LIST CONTAINING THE LENGHT OF THE NAME FOR EACH DICT IN INSIDE NAME"
   ]
  },
  {
   "cell_type": "code",
   "execution_count": 1,
   "metadata": {},
   "outputs": [
    {
     "name": "stdout",
     "output_type": "stream",
     "text": [
      "[3, 3, 4, 5, 5, 5]\n",
      "['Hello Ano', 'Hello Ony', 'Hello Nico', 'Hello Mario', 'Hello Nando', 'Hello Pedro']\n",
      "['Hello Nico', 'Hello Mario', 'Hello Nando', 'Hello Pedro']\n"
     ]
    }
   ],
   "source": [
    "names = ['Ano', 'Ony', 'Nico', 'Mario', 'Nando', 'Pedro']\n",
    "\n",
    "# a list containing the length of the name for every name inside names\n",
    "list_of_name_lengths = [len(name) for name in names]\n",
    "print(list_of_name_lengths)\n",
    "\n",
    "# a list containing \"Hello {name}\" for every name inside names\n",
    "list_of_hello_names = [\"Hello {name}\".format(name=name) for name in names]\n",
    "print(list_of_hello_names)\n",
    "\n",
    "# a list containing \"Hello {name}\" for every name inside names which is longer than 3 letters\n",
    "list_of_hello_long_names = [\"Hello {name}\".format(name=name) for name in names if len(name) > 3]\n",
    "print(list_of_hello_long_names)"
   ]
  },
  {
   "cell_type": "markdown",
   "metadata": {},
   "source": [
    "# Dictionary Comprehensions\n",
    "** Dictionary comprehension are just like comprehensions! But we must give a key and value **"
   ]
  },
  {
   "cell_type": "code",
   "execution_count": 12,
   "metadata": {},
   "outputs": [
    {
     "name": "stdout",
     "output_type": "stream",
     "text": [
      "{'Ano': 3, 'Pedro': 5, 'Mario': 5, 'Nando': 5, 'Ony': 3, 'Nico': 4}\n"
     ]
    }
   ],
   "source": [
    "names = ['Ano', 'Ony', 'Nico', 'Mario', 'Nando', 'Pedro']\n",
    "\n",
    "# a list containing the length of the name for every name inside names\n",
    "name_len_dict = {name: len(name) for name in names}\n",
    "print(name_len_dict)"
   ]
  },
  {
   "cell_type": "markdown",
   "metadata": {},
   "source": [
    "** Dictionary contain key=name value=\"hello {name}\" **\n",
    "\n",
    "** Dictionary contain key=name value=\"{name} contain a letter 'i' \" only if the name contains 'i' **"
   ]
  },
  {
   "cell_type": "code",
   "execution_count": 14,
   "metadata": {},
   "outputs": [
    {
     "name": "stdout",
     "output_type": "stream",
     "text": [
      "{'Ano': 'Hello Ano', 'Pedro': 'Hello Pedro', 'Mario': 'Hello Mario', 'Nando': 'Hello Nando', 'Ony': 'Hello Ony', 'Nico': 'Hello Nico'}\n"
     ]
    }
   ],
   "source": [
    "name_hello_dict = {name: \"Hello {name}\".format(name=name) for name in names}\n",
    "print(name_hello_dict)"
   ]
  },
  {
   "cell_type": "code",
   "execution_count": null,
   "metadata": {
    "collapsed": true
   },
   "outputs": [],
   "source": []
  }
 ],
 "metadata": {
  "kernelspec": {
   "display_name": "Python 3",
   "language": "python",
   "name": "python3"
  },
  "language_info": {
   "codemirror_mode": {
    "name": "ipython",
    "version": 3
   },
   "file_extension": ".py",
   "mimetype": "text/x-python",
   "name": "python",
   "nbconvert_exporter": "python",
   "pygments_lexer": "ipython3",
   "version": "3.5.2"
  }
 },
 "nbformat": 4,
 "nbformat_minor": 2
}
