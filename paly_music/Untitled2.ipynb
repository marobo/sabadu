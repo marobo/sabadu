{
 "cells": [
  {
   "cell_type": "markdown",
   "metadata": {},
   "source": [
    "# Modified string with index replaced with char\n",
    "Example:\n",
    "    Modofied string \"coffee\" return to \"cotfee\""
   ]
  },
  {
   "cell_type": "code",
   "execution_count": 61,
   "metadata": {},
   "outputs": [
    {
     "name": "stdout",
     "output_type": "stream",
     "text": [
      "co\n",
      "cot\n",
      "fee\n",
      "cotfee\n"
     ]
    }
   ],
   "source": [
    "def replace_char(my_string, my_index, my_char):\n",
    "    # returns modified string with index replaced with char\n",
    "    \n",
    "    print(my_string[:my_index])\n",
    "    print(my_string[:my_index] + my_char)\n",
    "    print(my_string[my_index + 1:])\n",
    "    print(my_string[:my_index] + my_char + my_string[my_index + 1:])\n",
    "    \n",
    "replace_char('coffee', 2, 't')  # returns 'cotfee'\n"
   ]
  },
  {
   "cell_type": "markdown",
   "metadata": {},
   "source": [
    "## Why show up the result like this?"
   ]
  },
  {
   "cell_type": "code",
   "execution_count": null,
   "metadata": {},
   "outputs": [],
   "source": []
  }
 ],
 "metadata": {
  "kernelspec": {
   "display_name": "Python 3",
   "language": "python",
   "name": "python3"
  },
  "language_info": {
   "codemirror_mode": {
    "name": "ipython",
    "version": 3
   },
   "file_extension": ".py",
   "mimetype": "text/x-python",
   "name": "python",
   "nbconvert_exporter": "python",
   "pygments_lexer": "ipython3",
   "version": "3.6.1"
  }
 },
 "nbformat": 4,
 "nbformat_minor": 2
}
