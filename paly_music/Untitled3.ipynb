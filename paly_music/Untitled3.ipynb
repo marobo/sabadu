{
 "cells": [
  {
   "cell_type": "code",
   "execution_count": null,
   "metadata": {},
   "outputs": [],
   "source": [
    "def replace_char(my_string, my_index, my_char):\n",
    "    # returns modified string with index replaced with char\n",
    "    \n",
    "    print(my_string[:my_index])\n",
    "    print(my_string[:my_index] + my_char)\n",
    "    print(my_string[my_index + 1:])\n",
    "    print(my_string[:my_index] + my_char + my_string[my_index + 1:])\n",
    "    \n",
    "    \n",
    "\n",
    "replace_char('coffee', 2, 't')  # returns 'cotfee'\n",
    "\n",
    "my_string = \"coffee\"\n",
    "my_index = 2\n",
    "my_char = \"t\"\n",
    "\n",
    "print(my_string[:my_index])\n",
    "print(my_string[:my_index] + my_char)\n",
    "print(my_string[my_index + 1:])\n",
    "print(my_string[:my_index] + my_char + my_string[my_index + 1:])"
   ]
  }
 ],
 "metadata": {
  "kernelspec": {
   "display_name": "Python 3",
   "language": "python",
   "name": "python3"
  },
  "language_info": {
   "codemirror_mode": {
    "name": "ipython",
    "version": 3
   },
   "file_extension": ".py",
   "mimetype": "text/x-python",
   "name": "python",
   "nbconvert_exporter": "python",
   "pygments_lexer": "ipython3",
   "version": "3.6.1"
  }
 },
 "nbformat": 4,
 "nbformat_minor": 2
}
