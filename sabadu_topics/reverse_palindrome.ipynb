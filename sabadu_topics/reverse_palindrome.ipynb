{
 "cells": [
  {
   "cell_type": "code",
   "execution_count": 6,
   "metadata": {},
   "outputs": [
    {
     "name": "stdout",
     "output_type": "stream",
     "text": [
      "ENTER  STRING\n",
      "w\n",
      "It's a palindrome\n"
     ]
    }
   ],
   "source": [
    "def reverse(text):\n",
    "    if len(text) <= 1:\n",
    "        return text\n",
    "    return reverse(text[1:]) + text[0]\n",
    "\n",
    "n = input(\"ENTER  STRING\\n\")\n",
    "if n==reverse(n):\n",
    "    print (\"It's a palindrome\")\n",
    "else:\n",
    "    print (\"It's not a palindrome\")"
   ]
  },
  {
   "cell_type": "code",
   "execution_count": null,
   "metadata": {},
   "outputs": [],
   "source": []
  }
 ],
 "metadata": {
  "kernelspec": {
   "display_name": "Python 3",
   "language": "python",
   "name": "python3"
  },
  "language_info": {
   "codemirror_mode": {
    "name": "ipython",
    "version": 3
   },
   "file_extension": ".py",
   "mimetype": "text/x-python",
   "name": "python",
   "nbconvert_exporter": "python",
   "pygments_lexer": "ipython3",
   "version": "3.6.1"
  }
 },
 "nbformat": 4,
 "nbformat_minor": 2
}
