{
 "cells": [
  {
   "cell_type": "code",
   "execution_count": 6,
   "metadata": {},
   "outputs": [],
   "source": [
    "'''\n",
    "We are writing a Library Class\n",
    "The library should store a list of book titles\n",
    "    we should be able to display those titles\n",
    "We should be able to add a book title to the library\n",
    "We should be able to change a book title in the library\n",
    "We should be able to remove a book title from the library\n",
    "'''\n",
    "\n",
    "class Library:\n",
    "    '''\n",
    "    A class modelling a library\n",
    "    '''\n",
    "    \n",
    "    def __init__(self):\n",
    "        print(\"I am initializing a Library\")\n",
    "        self.book_titles = []\n",
    "        \n",
    "    def __str__(self):\n",
    "        return str(self.book_titles)\n",
    "\n",
    "    def __repr__(self):\n",
    "        return str(self.book_titles)\n",
    "    \n",
    "    def __len__(self):\n",
    "        return len(self.book_titles)\n",
    "    \n",
    "    def __add__(self, item):\n",
    "        if hasattr(item, 'book_titles'):\n",
    "            return self.book_titles + item.book_titles\n",
    "        else:\n",
    "            raise ValueError(\"Dot a library duck\")\n",
    "        \n",
    "    def print_book_titles(self):\n",
    "        ''' print all of the book titles in the library '''\n",
    "        if len(self.book_titles):\n",
    "            for title in self.book_titles:\n",
    "                print(title)\n",
    "        else:\n",
    "            print(\"Library is empty\")\n",
    "\n",
    "    @property\n",
    "    def number_of_book_titles(self,):\n",
    "        return len(self.book_titles)\n",
    "        \n",
    "    def add_book_title(self, book_title):\n",
    "        ''' \n",
    "            Add a book title to the library \n",
    "        '''\n",
    "        \n",
    "        # Checks if book_title is empty\n",
    "        if book_title == \"\":\n",
    "            raise ValueError(\"presiza prense karakter\")\n",
    "        \n",
    "        # Checks if the book_title already exists in the Library \n",
    "        # match titles even if capitallization is different\n",
    "        \n",
    "        for title in self.book_titles:\n",
    "            if title.lower() == book_title.lower():\n",
    "                raise ValueError(\"Book Title Exists\")\n",
    "        \n",
    "        self.book_titles.append(book_title)\n",
    "        \n",
    "        # HOMEWORK\n",
    "        \n",
    "    def add_remove_title(self, book_title):\n",
    "        ''' \n",
    "            Add a book title to the library \n",
    "        '''\n",
    "        # Checks if book_title is empty\n",
    "        \n",
    "        # Checks if the book_title already exists in the Library \n",
    "        # match titles even if capitallization is different\n",
    "        \n",
    "        # remove from book_list\n",
    "        pass"
   ]
  },
  {
   "cell_type": "code",
   "execution_count": 7,
   "metadata": {},
   "outputs": [
    {
     "name": "stdout",
     "output_type": "stream",
     "text": [
      "I am initializing a Library\n",
      "I am initializing a Library\n",
      "Lian Python iha Lian Tetun\n",
      "-------\n",
      "Lian JavaScript iha Lian Tetun\n"
     ]
    }
   ],
   "source": [
    "dili_library = Library()\n",
    "baucau_library = Library()\n",
    "\n",
    "dili_library.add_book_title(\"Lian Python iha Lian Tetun\")\n",
    "dili_library.print_book_titles()\n",
    "print('-------')\n",
    "baucau_library.add_book_title(\"Lian JavaScript iha Lian Tetun\")\n",
    "baucau_library.print_book_titles()\n",
    "\n",
    "assert (baucau_library + dili_library) == (baucau_library.book_titles + dili_library.book_titles)"
   ]
  },
  {
   "cell_type": "code",
   "execution_count": 8,
   "metadata": {},
   "outputs": [
    {
     "data": {
      "text/plain": [
       "<bound method Library.print_book_titles of ['Lian Python iha Lian Tetun']>"
      ]
     },
     "execution_count": 8,
     "metadata": {},
     "output_type": "execute_result"
    }
   ],
   "source": [
    "dili_library.print_book_titles"
   ]
  },
  {
   "cell_type": "code",
   "execution_count": 10,
   "metadata": {},
   "outputs": [
    {
     "name": "stdout",
     "output_type": "stream",
     "text": [
      "I am initializing a Library\n",
      "I am initializing a Library\n",
      "my_library IS NOT the same as my_library_2\n",
      "a_library IS the same as my_library\n"
     ]
    }
   ],
   "source": [
    "my_library = Library()\n",
    "my_library_2 = Library()\n",
    "\n",
    "# is my_library the same as my_library_2\n",
    "if my_library == my_library_2:\n",
    "    print(\"my_library IS the same as my_library_2\")\n",
    "else:\n",
    "    print(\"my_library IS NOT the same as my_library_2\") \n",
    "    \n",
    "a_library = my_library\n",
    "# is a_library the same as my_library\n",
    "if a_library == my_library:\n",
    "    print(\"a_library IS the same as my_library\")\n",
    "else:\n",
    "    print(\"a_library IS NOT the same as my_library\") \n"
   ]
  },
  {
   "cell_type": "code",
   "execution_count": null,
   "metadata": {},
   "outputs": [],
   "source": []
  },
  {
   "cell_type": "code",
   "execution_count": null,
   "metadata": {},
   "outputs": [],
   "source": []
  }
 ],
 "metadata": {
  "kernelspec": {
   "display_name": "Python 3",
   "language": "python",
   "name": "python3"
  },
  "language_info": {
   "codemirror_mode": {
    "name": "ipython",
    "version": 3
   },
   "file_extension": ".py",
   "mimetype": "text/x-python",
   "name": "python",
   "nbconvert_exporter": "python",
   "pygments_lexer": "ipython3",
   "version": "3.6.1"
  }
 },
 "nbformat": 4,
 "nbformat_minor": 2
}
