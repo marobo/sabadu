{
 "cells": [
  {
   "cell_type": "code",
   "execution_count": 1,
   "metadata": {},
   "outputs": [],
   "source": [
    "class NamedObject(object):\n",
    "    ''' something which has a name '''\n",
    "    \n",
    "    def __init__(self, name='No Name'):\n",
    "        print('running NamedObject init')\n",
    "        self.name = name\n",
    "\n",
    "        \n",
    "class GenderedObject(object):\n",
    "    ''' something which has a gender '''\n",
    "    def __init__(self, gender='Unknown Gender'):\n",
    "        print('running GenderedObject init')\n",
    "        self.gender = gender\n",
    "        \n",
    "\n",
    "class Person(NamedObject, GenderedObject):\n",
    "    ''' A human being '''\n",
    "    \n",
    "    def __init__(self, name, gender):\n",
    "        print('running Person init')\n",
    "        NamedObject.__init__(self, name)\n",
    "        GenderedObject.__init__(self, gender)\n",
    "\n",
    "\n",
    "class Mane(Person):\n",
    "    ''' A male human being '''\n",
    "    \n",
    "    def __init__(self, name):\n",
    "        print('running Mane init')\n",
    "        super(Mane, self).__init__(name, 'Male')\n",
    "        \n",
    "        \n",
    "class Feto(Person):\n",
    "    ''' A female human being '''\n",
    "    \n",
    "    def __init__(self, name):\n",
    "        print('running Feto init')\n",
    "        super(Feto, self).__init__(name, 'Female')"
   ]
  },
  {
   "cell_type": "code",
   "execution_count": null,
   "metadata": {},
   "outputs": [],
   "source": []
  },
  {
   "cell_type": "code",
   "execution_count": null,
   "metadata": {},
   "outputs": [],
   "source": []
  },
  {
   "cell_type": "code",
   "execution_count": null,
   "metadata": {},
   "outputs": [],
   "source": []
  }
 ],
 "metadata": {
  "kernelspec": {
   "display_name": "Python 3",
   "language": "python",
   "name": "python3"
  },
  "language_info": {
   "codemirror_mode": {
    "name": "ipython",
    "version": 3
   },
   "file_extension": ".py",
   "mimetype": "text/x-python",
   "name": "python",
   "nbconvert_exporter": "python",
   "pygments_lexer": "ipython3",
   "version": "3.6.1"
  }
 },
 "nbformat": 4,
 "nbformat_minor": 2
}
