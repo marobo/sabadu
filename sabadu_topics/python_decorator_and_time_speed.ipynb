{
 "cells": [
  {
   "cell_type": "markdown",
   "metadata": {},
   "source": [
    "## Function Decorator\n",
    "Let us now, write a simple function decorator for ourselves. \n",
    "We will write a decorator that would measure the execution time of the function passed to it.\n",
    "\n",
    "We passed the function `print_timeit` to decorator named `time_it`. Inside decorator, function `print_timeit` is referenced as variable `my_function`.\n",
    "Prepending @ to the name of the decorator, and writing the same above a function calls the decorator, and passes the function to the decorator(decorates)."
   ]
  },
  {
   "cell_type": "code",
   "execution_count": 189,
   "metadata": {},
   "outputs": [
    {
     "name": "stdout",
     "output_type": "stream",
     "text": [
      "It took  0.000 second\n"
     ]
    }
   ],
   "source": [
    "from time import time\n",
    "\n",
    "def time_it(my_function): \n",
    "    def second_function():\n",
    "        start = time()\n",
    "        my_function()\n",
    "        end = time()\n",
    "        print(\"It took  %.3f second\" % (end - start))\n",
    "    return second_function\n",
    "\n",
    "@time_it\n",
    "def print_timeit():\n",
    "    for item in range(100):\n",
    "        return item\n",
    "\n",
    "print_timeit()"
   ]
  },
  {
   "cell_type": "markdown",
   "metadata": {},
   "source": [
    "### python script which print animation on console"
   ]
  },
  {
   "cell_type": "code",
   "execution_count": 190,
   "metadata": {},
   "outputs": [
    {
     "name": "stdout",
     "output_type": "stream",
     "text": [
      "Welcome to Pykafe"
     ]
    }
   ],
   "source": [
    "import time\n",
    "import sys\n",
    "\n",
    "\n",
    "pykafe_welcoming = (\"Welcome \" \"to \" \"Pykafe\")\n",
    "\n",
    "for item in range(17):\n",
    "    time.sleep(0.1)\n",
    "    sys.stdout.write(pykafe_welcoming[item % len(pykafe_welcoming)])\n",
    "    sys.stdout.flush()"
   ]
  },
  {
   "cell_type": "code",
   "execution_count": 3,
   "metadata": {},
   "outputs": [
    {
     "ename": "IndentationError",
     "evalue": "expected an indented block (<ipython-input-3-64a334b40da9>, line 24)",
     "output_type": "error",
     "traceback": [
      "\u001b[0;36m  File \u001b[0;32m\"<ipython-input-3-64a334b40da9>\"\u001b[0;36m, line \u001b[0;32m24\u001b[0m\n\u001b[0;31m    my_func(4, \"hello\", [1, 2, 3], 56, \"hello\", name=\"Mario\", num=3)\u001b[0m\n\u001b[0m          ^\u001b[0m\n\u001b[0;31mIndentationError\u001b[0m\u001b[0;31m:\u001b[0m expected an indented block\n"
     ]
    }
   ],
   "source": [
    "def describe(func):\n",
    "    ''' this is a decorator which should wrap the function parameter '''\n",
    "    \n",
    "\n",
    "    def wrapper(*args, **kwargs):\n",
    "        \n",
    "        # it should print \"You have called <this_function>\"\n",
    "        print(\"You have called\", func)\n",
    "        \n",
    "        # it should print \"with these positional arguments (..., ... ,....)\n",
    "        print(\"with these positional arguments\", args)\n",
    "\n",
    "        # it should print \"with these key word arguments {...: ... ,...: ....}\n",
    "        print(\"with these positional arguments\", kwargs)\n",
    "\n",
    "        # and execute the function, with the arguments\n",
    "        func(*args, **kwargs)\n",
    "    return wrapper\n",
    "  \n",
    "@describe\n",
    "def my_func(*args, **kwargs):\n",
    "    return return_args\n",
    "return_val = my_func([1,3,4,4])\n",
    "print(return_val)\n"
   ]
  },
  {
   "cell_type": "code",
   "execution_count": null,
   "metadata": {},
   "outputs": [],
   "source": []
  }
 ],
 "metadata": {
  "kernelspec": {
   "display_name": "Python 3",
   "language": "python",
   "name": "python3"
  },
  "language_info": {
   "codemirror_mode": {
    "name": "ipython",
    "version": 3
   },
   "file_extension": ".py",
   "mimetype": "text/x-python",
   "name": "python",
   "nbconvert_exporter": "python",
   "pygments_lexer": "ipython3",
   "version": "3.6.5"
  }
 },
 "nbformat": 4,
 "nbformat_minor": 2
}
