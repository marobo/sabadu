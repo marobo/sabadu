{
 "cells": [
  {
   "cell_type": "markdown",
   "metadata": {},
   "source": [
    "### Lista : hare dadus, hatama dadus, hadia dadus no hamos dadus"
   ]
  },
  {
   "cell_type": "code",
   "execution_count": 1,
   "metadata": {
    "collapsed": true
   },
   "outputs": [],
   "source": [
    "livru = []"
   ]
  },
  {
   "cell_type": "code",
   "execution_count": 37,
   "metadata": {
    "collapsed": true
   },
   "outputs": [],
   "source": [
    "# hare dadus\n",
    "\n",
    "def hare_dadus():\n",
    "    if len(livru) <= 0:\n",
    "        print(\"Dadus registu livru seidauk iha\")\n",
    "    else:\n",
    "        for indeks, l in enumerate(livru):\n",
    "            print(\"[%d] %s\" % (indeks, l))"
   ]
  },
  {
   "cell_type": "code",
   "execution_count": 38,
   "metadata": {},
   "outputs": [
    {
     "name": "stdout",
     "output_type": "stream",
     "text": [
      "[0] Riot\n",
      "[1] Javascript\n"
     ]
    }
   ],
   "source": [
    "\n",
    "hare_dadus()"
   ]
  },
  {
   "cell_type": "code",
   "execution_count": 4,
   "metadata": {
    "collapsed": true
   },
   "outputs": [],
   "source": [
    "# Hatama dadus\n",
    "\n",
    "def hatama_livru():\n",
    "    livru_foun = input(\"Titlu livru: \")\n",
    "    livru.append(livru_foun)"
   ]
  },
  {
   "cell_type": "code",
   "execution_count": 16,
   "metadata": {},
   "outputs": [
    {
     "name": "stdout",
     "output_type": "stream",
     "text": [
      "Titlu livru: Javascript\n"
     ]
    }
   ],
   "source": [
    "hatama_livru()"
   ]
  },
  {
   "cell_type": "code",
   "execution_count": 60,
   "metadata": {},
   "outputs": [
    {
     "name": "stdout",
     "output_type": "stream",
     "text": [
      "[0] sfg\n",
      "[1] Javascript\n"
     ]
    }
   ],
   "source": [
    "hare_dadus()"
   ]
  },
  {
   "cell_type": "code",
   "execution_count": 69,
   "metadata": {
    "collapsed": true
   },
   "outputs": [],
   "source": [
    "# Hadia dadus\n",
    "\n",
    "def hadia_dadus():\n",
    "    try:\n",
    "        indeks = int(input(\"Hatam Id Livru: \"))\n",
    "        titlu_tuan = livru[indeks]\n",
    "        titlu_foun = input(\"Titlu foun: \")\n",
    "        livru[indeks] = titlu_foun\n",
    "    except ValueError:\n",
    "        print(\"Favor hatama numero integer\")\n",
    "    except IndexError:\n",
    "        print(\"Id nee laiha\")\n",
    "    else:\n",
    "        print(\"{} muda tia ona ba {}\".format(titlu_tuan, titlu_foun))\n",
    "    finally:\n",
    "        hare_dadus()"
   ]
  },
  {
   "cell_type": "code",
   "execution_count": 70,
   "metadata": {},
   "outputs": [
    {
     "name": "stdout",
     "output_type": "stream",
     "text": [
      "Hatam Id Livru: 0\n",
      "Titlu foun: Python 3.6\n",
      "Python muda tia ona ba Python 3.6\n",
      "[0] Python 3.6\n",
      "[1] Javascript\n"
     ]
    }
   ],
   "source": [
    "hadia_dadus()"
   ]
  },
  {
   "cell_type": "code",
   "execution_count": 71,
   "metadata": {},
   "outputs": [
    {
     "name": "stdout",
     "output_type": "stream",
     "text": [
      "[0] Python 3.6\n",
      "[1] Javascript\n"
     ]
    }
   ],
   "source": [
    "hare_dadus()"
   ]
  },
  {
   "cell_type": "code",
   "execution_count": 11,
   "metadata": {
    "collapsed": true
   },
   "outputs": [],
   "source": [
    "# Hamos dadus\n",
    "\n",
    "def hamos_dadus():\n",
    "    hare_dadus()\n",
    "    indeks = int(input(\"Hatama Id livru: \"))\n",
    "    if(indeks > len(livru)):\n",
    "        print(\"Id lalos\")\n",
    "    else:\n",
    "        livru.remove(livru[indeks])"
   ]
  },
  {
   "cell_type": "code",
   "execution_count": 13,
   "metadata": {},
   "outputs": [
    {
     "name": "stdout",
     "output_type": "stream",
     "text": [
      "[0] Javascript\n",
      "Hatama Id livru: 0\n"
     ]
    }
   ],
   "source": [
    "hamos_dadus()"
   ]
  },
  {
   "cell_type": "code",
   "execution_count": 14,
   "metadata": {},
   "outputs": [
    {
     "name": "stdout",
     "output_type": "stream",
     "text": [
      "Dadus registu livru seidauk iha\n"
     ]
    }
   ],
   "source": [
    "hare_dadus()"
   ]
  }
 ],
 "metadata": {
  "kernelspec": {
   "display_name": "Python 3",
   "language": "python",
   "name": "python3"
  },
  "language_info": {
   "codemirror_mode": {
    "name": "ipython",
    "version": 3
   },
   "file_extension": ".py",
   "mimetype": "text/x-python",
   "name": "python",
   "nbconvert_exporter": "python",
   "pygments_lexer": "ipython3",
   "version": "3.6.1"
  }
 },
 "nbformat": 4,
 "nbformat_minor": 2
}
