{
 "cells": [
  {
   "cell_type": "markdown",
   "metadata": {},
   "source": [
    "# Modified string with index replaced with char\n",
    "Example:\n",
    "    Modofied string \"coffee\" return to \"cotfee\""
   ]
  },
  {
   "cell_type": "code",
   "execution_count": 2,
   "metadata": {},
   "outputs": [
    {
     "name": "stdout",
     "output_type": "stream",
     "text": [
      "co\n",
      "cot\n",
      "fee\n",
      "cotfee\n"
     ]
    }
   ],
   "source": [
    "def replace_char(my_string, my_index, my_char):\n",
    "    # returns modified string with index replaced with char\n",
    "    # print the result just one line\n",
    "    print(my_string[:my_index])\n",
    "    print(my_string[:my_index] + my_char)\n",
    "    print(my_string[my_index + 1:])\n",
    "    print(my_string[:my_index] + my_char + my_string[my_index + 1:])\n",
    "    \n",
    "replace_char('coffee', 2, 't')  # returns 'cotfee'"
   ]
  },
  {
   "cell_type": "markdown",
   "metadata": {},
   "source": [
    "## Why show up the result like this?"
   ]
  },
  {
   "cell_type": "code",
   "execution_count": 3,
   "metadata": {},
   "outputs": [
    {
     "ename": "SyntaxError",
     "evalue": "invalid syntax (<ipython-input-3-90455b3b69e0>, line 2)",
     "output_type": "error",
     "traceback": [
      "\u001b[0;36m  File \u001b[0;32m\"<ipython-input-3-90455b3b69e0>\"\u001b[0;36m, line \u001b[0;32m2\u001b[0m\n\u001b[0;31m    >>>string = \"mario\"\u001b[0m\n\u001b[0m     ^\u001b[0m\n\u001b[0;31mSyntaxError\u001b[0m\u001b[0;31m:\u001b[0m invalid syntax\n"
     ]
    }
   ],
   "source": [
    "# LANKA-LANKA ATU MODIFKA STRING NO REPLACE INDEX:\n",
    "```\n",
    ">>>string = \"mario\"\n",
    ">>>index = 2\n",
    ">>>char = \"t\"\n",
    ">>>print(string[:index])\n",
    "ma\n",
    ">>>print(string[:index] + char)\n",
    "mat\n",
    ">>>print(string[index + 1:])\n",
    "io\n",
    ">>>print(string[:index] + char + string[index + 1:])\n",
    "matio\n",
    "\n",
    "my_string = \"coffee\"\n",
    "my_index = 2\n",
    "my_char = \"t\"\n",
    "```\n",
    "print(my_string[:my_index])\n",
    "print(my_string[:my_index] + my_char)\n",
    "print(my_string[my_index + 1:])\n",
    "print(my_string[:my_index] + my_char + my_string[my_index + 1:])"
   ]
  },
  {
   "cell_type": "code",
   "execution_count": null,
   "metadata": {},
   "outputs": [],
   "source": []
  }
 ],
 "metadata": {
  "kernelspec": {
   "display_name": "Python 3",
   "language": "python",
   "name": "python3"
  },
  "language_info": {
   "codemirror_mode": {
    "name": "ipython",
    "version": 3
   },
   "file_extension": ".py",
   "mimetype": "text/x-python",
   "name": "python",
   "nbconvert_exporter": "python",
   "pygments_lexer": "ipython3",
   "version": "3.6.1"
  }
 },
 "nbformat": 4,
 "nbformat_minor": 2
}
