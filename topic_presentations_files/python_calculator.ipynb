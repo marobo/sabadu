{
 "cells": [
  {
   "cell_type": "code",
   "execution_count": 30,
   "metadata": {},
   "outputs": [
    {
     "name": "stdout",
     "output_type": "stream",
     "text": [
      "Operation to perform: w\n",
      "Operation perform you entered is not valid, please run it again\n"
     ]
    }
   ],
   "source": [
    "from operator import add, sub, mul, truediv, pow\n",
    "\n",
    "operators = {\n",
    "    '+': add,\n",
    "    '-': sub,\n",
    "    '*': mul,\n",
    "    '/': truediv,\n",
    "    '^': pow,\n",
    "}\n",
    "\n",
    "\n",
    "def myCalculator():\n",
    "    while True:\n",
    "        try:\n",
    "            choice = input(\"Operation to perform: \")\n",
    "            \n",
    "            # If the choice is valid, do the calculations\n",
    "            if choice in operators:\n",
    "                num1 = float(input(\"Enter first number: \"))\n",
    "                num2 = float(input(\"Enter second number: \"))\n",
    "                print(operators[choice](num1, num2))\n",
    "                \n",
    "            # Break, If choice not a valid.\n",
    "            else:\n",
    "                print(\"Operation perform you entered is not valid, please run it again\")\n",
    "                break\n",
    "                \n",
    "        # If has an error with a value\n",
    "        except ValueError:\n",
    "                print(\"Value is not valid\")\n",
    "\n",
    "myCalculator()"
   ]
  },
  {
   "cell_type": "raw",
   "metadata": {},
   "source": [
    "def bad_func():\n",
    "    bad_func()\n",
    "\n",
    "bad_func()"
   ]
  },
  {
   "cell_type": "code",
   "execution_count": null,
   "metadata": {},
   "outputs": [],
   "source": []
  }
 ],
 "metadata": {
  "kernelspec": {
   "display_name": "Python 3",
   "language": "python",
   "name": "python3"
  },
  "language_info": {
   "codemirror_mode": {
    "name": "ipython",
    "version": 3
   },
   "file_extension": ".py",
   "mimetype": "text/x-python",
   "name": "python",
   "nbconvert_exporter": "python",
   "pygments_lexer": "ipython3",
   "version": "3.6.1"
  }
 },
 "nbformat": 4,
 "nbformat_minor": 2
}
