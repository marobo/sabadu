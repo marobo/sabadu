{
 "cells": [
  {
   "cell_type": "code",
   "execution_count": 4,
   "metadata": {},
   "outputs": [
    {
     "name": "stdout",
     "output_type": "stream",
     "text": [
      "Hili operator: 4\n",
      "Hatama numeru dalarua: \n",
      "4\n",
      "4\n",
      "Resultadu =  1.0\n"
     ]
    }
   ],
   "source": [
    "def myCalculator():\n",
    "    try:\n",
    "        hili = int(input(\"Hili operator: \"))\n",
    "        if (hili>=1 and hili<=4):\n",
    "            print(\"Hatama numeru dalarua: \")\n",
    "            num1 = int(input())\n",
    "            num2 = int(input())\n",
    "            if hili == 1:\n",
    "                operador = num1 + num2\n",
    "                print(\"Resultadu = \", operador)\n",
    "            elif hili == 2:\n",
    "                operador = num1 - num2\n",
    "                print(\"Resultadu = \", operador)\n",
    "            elif hili == 3:\n",
    "                operador = num1 * num2\n",
    "                print(\"Resultadu = \", operador)\n",
    "            else:\n",
    "                operador = num1 / num2\n",
    "                print(\"Resultadu = \", operador)\n",
    "        elif hili == 5:\n",
    "            exit()\n",
    "        else:\n",
    "            print(\"Hatama la los..!!\")\n",
    "    except ValueError:\n",
    "        print(\"Ita halo Erru\")\n",
    "myCalculator()"
   ]
  },
  {
   "cell_type": "code",
   "execution_count": null,
   "metadata": {},
   "outputs": [],
   "source": []
  }
 ],
 "metadata": {
  "kernelspec": {
   "display_name": "Python 3",
   "language": "python",
   "name": "python3"
  },
  "language_info": {
   "codemirror_mode": {
    "name": "ipython",
    "version": 3
   },
   "file_extension": ".py",
   "mimetype": "text/x-python",
   "name": "python",
   "nbconvert_exporter": "python",
   "pygments_lexer": "ipython3",
   "version": "3.6.1"
  }
 },
 "nbformat": 4,
 "nbformat_minor": 2
}
